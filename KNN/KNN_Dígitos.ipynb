{
 "cells": [
  {
   "cell_type": "markdown",
   "id": "1caf4b7a",
   "metadata": {},
   "source": [
    "Conjunto de dados MNIST, que consiste em dígitos escritos à mão. \n",
    "\n",
    "O objetivo deste conjunto de dados é classificar corretamente os dígitos manuscritos de 0 a 9. Em vez de utilizar todo o conjunto de dados (que consiste em 60.000 imagens de treinamento e 10.000 imagens de teste), usaremos um pequeno subconjunto dos dados fornecidos pela biblioteca scikit-learn - este subconjunto inclui 1.797 dígitos.\n",
    "\n",
    "Cada imagem no conjunto de dados de 1.797 dígitos do scikit-learn é representada como um vetor de recurso de intensidade de pixel bruto de 64 dim. Isso significa que cada imagem é na verdade uma imagem em tons de cinza de 8 x 8, mas o scikit-learn “nivela” a imagem em uma lista. "
   ]
  },
  {
   "cell_type": "code",
   "execution_count": 3,
   "id": "6f559837",
   "metadata": {},
   "outputs": [],
   "source": [
    "import numpy as np\n",
    "import pandas as pd\n",
    "from sklearn import datasets, svm,metrics\n",
    "import matplotlib.pyplot as plt"
   ]
  },
  {
   "cell_type": "markdown",
   "id": "91afff3a",
   "metadata": {},
   "source": [
    "Base de Dados do Sklearn"
   ]
  },
  {
   "cell_type": "code",
   "execution_count": 10,
   "id": "4d5afbec",
   "metadata": {},
   "outputs": [],
   "source": [
    "digitos=datasets.load_digits()\n"
   ]
  },
  {
   "cell_type": "code",
   "execution_count": 5,
   "id": "c29fd3da",
   "metadata": {},
   "outputs": [
    {
     "name": "stdout",
     "output_type": "stream",
     "text": [
      ".. _digits_dataset:\n",
      "\n",
      "Optical recognition of handwritten digits dataset\n",
      "--------------------------------------------------\n",
      "\n",
      "**Data Set Characteristics:**\n",
      "\n",
      "    :Number of Instances: 1797\n",
      "    :Number of Attributes: 64\n",
      "    :Attribute Information: 8x8 image of integer pixels in the range 0..16.\n",
      "    :Missing Attribute Values: None\n",
      "    :Creator: E. Alpaydin (alpaydin '@' boun.edu.tr)\n",
      "    :Date: July; 1998\n",
      "\n",
      "This is a copy of the test set of the UCI ML hand-written digits datasets\n",
      "https://archive.ics.uci.edu/ml/datasets/Optical+Recognition+of+Handwritten+Digits\n",
      "\n",
      "The data set contains images of hand-written digits: 10 classes where\n",
      "each class refers to a digit.\n",
      "\n",
      "Preprocessing programs made available by NIST were used to extract\n",
      "normalized bitmaps of handwritten digits from a preprinted form. From a\n",
      "total of 43 people, 30 contributed to the training set and different 13\n",
      "to the test set. 32x32 bitmaps are divided into nonoverlapping blocks of\n",
      "4x4 and the number of on pixels are counted in each block. This generates\n",
      "an input matrix of 8x8 where each element is an integer in the range\n",
      "0..16. This reduces dimensionality and gives invariance to small\n",
      "distortions.\n",
      "\n",
      "For info on NIST preprocessing routines, see M. D. Garris, J. L. Blue, G.\n",
      "T. Candela, D. L. Dimmick, J. Geist, P. J. Grother, S. A. Janet, and C.\n",
      "L. Wilson, NIST Form-Based Handprint Recognition System, NISTIR 5469,\n",
      "1994.\n",
      "\n",
      ".. topic:: References\n",
      "\n",
      "  - C. Kaynak (1995) Methods of Combining Multiple Classifiers and Their\n",
      "    Applications to Handwritten Digit Recognition, MSc Thesis, Institute of\n",
      "    Graduate Studies in Science and Engineering, Bogazici University.\n",
      "  - E. Alpaydin, C. Kaynak (1998) Cascading Classifiers, Kybernetika.\n",
      "  - Ken Tang and Ponnuthurai N. Suganthan and Xi Yao and A. Kai Qin.\n",
      "    Linear dimensionalityreduction using relevance weighted LDA. School of\n",
      "    Electrical and Electronic Engineering Nanyang Technological University.\n",
      "    2005.\n",
      "  - Claudio Gentile. A New Approximate Maximal Margin Classification\n",
      "    Algorithm. NIPS. 2000.\n",
      "\n"
     ]
    }
   ],
   "source": [
    "#Descrição do dataset\n",
    "print(digitos.DESCR)"
   ]
  },
  {
   "cell_type": "code",
   "execution_count": 17,
   "id": "3e61d7a3",
   "metadata": {},
   "outputs": [
    {
     "data": {
      "text/plain": [
       "array([0, 1, 2, 3, 4, 5, 6, 7, 8, 9])"
      ]
     },
     "execution_count": 17,
     "metadata": {},
     "output_type": "execute_result"
    }
   ],
   "source": [
    "#Visualizando a variável Target\n",
    "nomes_target=digitos.target_names\n",
    "nomes_target"
   ]
  },
  {
   "cell_type": "code",
   "execution_count": 18,
   "id": "fd3dd641",
   "metadata": {},
   "outputs": [],
   "source": [
    "tam=len(digitos.images)\n",
    "dados=digitos.images.reshape((tam,-1))\n",
    "classe=digitos.target"
   ]
  },
  {
   "cell_type": "code",
   "execution_count": 91,
   "id": "7aa459ba",
   "metadata": {},
   "outputs": [],
   "source": [
    "dados=pd.DataFrame(dados)\n",
    "dados['classe']=classe"
   ]
  },
  {
   "cell_type": "code",
   "execution_count": 92,
   "id": "7aadc080",
   "metadata": {},
   "outputs": [
    {
     "data": {
      "text/html": [
       "<div>\n",
       "<style scoped>\n",
       "    .dataframe tbody tr th:only-of-type {\n",
       "        vertical-align: middle;\n",
       "    }\n",
       "\n",
       "    .dataframe tbody tr th {\n",
       "        vertical-align: top;\n",
       "    }\n",
       "\n",
       "    .dataframe thead th {\n",
       "        text-align: right;\n",
       "    }\n",
       "</style>\n",
       "<table border=\"1\" class=\"dataframe\">\n",
       "  <thead>\n",
       "    <tr style=\"text-align: right;\">\n",
       "      <th></th>\n",
       "      <th>0</th>\n",
       "      <th>1</th>\n",
       "      <th>2</th>\n",
       "      <th>3</th>\n",
       "      <th>4</th>\n",
       "      <th>5</th>\n",
       "      <th>6</th>\n",
       "      <th>7</th>\n",
       "      <th>8</th>\n",
       "      <th>9</th>\n",
       "      <th>...</th>\n",
       "      <th>55</th>\n",
       "      <th>56</th>\n",
       "      <th>57</th>\n",
       "      <th>58</th>\n",
       "      <th>59</th>\n",
       "      <th>60</th>\n",
       "      <th>61</th>\n",
       "      <th>62</th>\n",
       "      <th>63</th>\n",
       "      <th>classe</th>\n",
       "    </tr>\n",
       "  </thead>\n",
       "  <tbody>\n",
       "    <tr>\n",
       "      <th>0</th>\n",
       "      <td>0.0</td>\n",
       "      <td>0.0</td>\n",
       "      <td>5.0</td>\n",
       "      <td>13.0</td>\n",
       "      <td>9.0</td>\n",
       "      <td>1.0</td>\n",
       "      <td>0.0</td>\n",
       "      <td>0.0</td>\n",
       "      <td>0.0</td>\n",
       "      <td>0.0</td>\n",
       "      <td>...</td>\n",
       "      <td>0.0</td>\n",
       "      <td>0.0</td>\n",
       "      <td>0.0</td>\n",
       "      <td>6.0</td>\n",
       "      <td>13.0</td>\n",
       "      <td>10.0</td>\n",
       "      <td>0.0</td>\n",
       "      <td>0.0</td>\n",
       "      <td>0.0</td>\n",
       "      <td>0</td>\n",
       "    </tr>\n",
       "    <tr>\n",
       "      <th>1</th>\n",
       "      <td>0.0</td>\n",
       "      <td>0.0</td>\n",
       "      <td>0.0</td>\n",
       "      <td>12.0</td>\n",
       "      <td>13.0</td>\n",
       "      <td>5.0</td>\n",
       "      <td>0.0</td>\n",
       "      <td>0.0</td>\n",
       "      <td>0.0</td>\n",
       "      <td>0.0</td>\n",
       "      <td>...</td>\n",
       "      <td>0.0</td>\n",
       "      <td>0.0</td>\n",
       "      <td>0.0</td>\n",
       "      <td>0.0</td>\n",
       "      <td>11.0</td>\n",
       "      <td>16.0</td>\n",
       "      <td>10.0</td>\n",
       "      <td>0.0</td>\n",
       "      <td>0.0</td>\n",
       "      <td>1</td>\n",
       "    </tr>\n",
       "    <tr>\n",
       "      <th>2</th>\n",
       "      <td>0.0</td>\n",
       "      <td>0.0</td>\n",
       "      <td>0.0</td>\n",
       "      <td>4.0</td>\n",
       "      <td>15.0</td>\n",
       "      <td>12.0</td>\n",
       "      <td>0.0</td>\n",
       "      <td>0.0</td>\n",
       "      <td>0.0</td>\n",
       "      <td>0.0</td>\n",
       "      <td>...</td>\n",
       "      <td>0.0</td>\n",
       "      <td>0.0</td>\n",
       "      <td>0.0</td>\n",
       "      <td>0.0</td>\n",
       "      <td>3.0</td>\n",
       "      <td>11.0</td>\n",
       "      <td>16.0</td>\n",
       "      <td>9.0</td>\n",
       "      <td>0.0</td>\n",
       "      <td>2</td>\n",
       "    </tr>\n",
       "    <tr>\n",
       "      <th>3</th>\n",
       "      <td>0.0</td>\n",
       "      <td>0.0</td>\n",
       "      <td>7.0</td>\n",
       "      <td>15.0</td>\n",
       "      <td>13.0</td>\n",
       "      <td>1.0</td>\n",
       "      <td>0.0</td>\n",
       "      <td>0.0</td>\n",
       "      <td>0.0</td>\n",
       "      <td>8.0</td>\n",
       "      <td>...</td>\n",
       "      <td>0.0</td>\n",
       "      <td>0.0</td>\n",
       "      <td>0.0</td>\n",
       "      <td>7.0</td>\n",
       "      <td>13.0</td>\n",
       "      <td>13.0</td>\n",
       "      <td>9.0</td>\n",
       "      <td>0.0</td>\n",
       "      <td>0.0</td>\n",
       "      <td>3</td>\n",
       "    </tr>\n",
       "    <tr>\n",
       "      <th>4</th>\n",
       "      <td>0.0</td>\n",
       "      <td>0.0</td>\n",
       "      <td>0.0</td>\n",
       "      <td>1.0</td>\n",
       "      <td>11.0</td>\n",
       "      <td>0.0</td>\n",
       "      <td>0.0</td>\n",
       "      <td>0.0</td>\n",
       "      <td>0.0</td>\n",
       "      <td>0.0</td>\n",
       "      <td>...</td>\n",
       "      <td>0.0</td>\n",
       "      <td>0.0</td>\n",
       "      <td>0.0</td>\n",
       "      <td>0.0</td>\n",
       "      <td>2.0</td>\n",
       "      <td>16.0</td>\n",
       "      <td>4.0</td>\n",
       "      <td>0.0</td>\n",
       "      <td>0.0</td>\n",
       "      <td>4</td>\n",
       "    </tr>\n",
       "    <tr>\n",
       "      <th>5</th>\n",
       "      <td>0.0</td>\n",
       "      <td>0.0</td>\n",
       "      <td>12.0</td>\n",
       "      <td>10.0</td>\n",
       "      <td>0.0</td>\n",
       "      <td>0.0</td>\n",
       "      <td>0.0</td>\n",
       "      <td>0.0</td>\n",
       "      <td>0.0</td>\n",
       "      <td>0.0</td>\n",
       "      <td>...</td>\n",
       "      <td>0.0</td>\n",
       "      <td>0.0</td>\n",
       "      <td>0.0</td>\n",
       "      <td>9.0</td>\n",
       "      <td>16.0</td>\n",
       "      <td>16.0</td>\n",
       "      <td>10.0</td>\n",
       "      <td>0.0</td>\n",
       "      <td>0.0</td>\n",
       "      <td>5</td>\n",
       "    </tr>\n",
       "    <tr>\n",
       "      <th>6</th>\n",
       "      <td>0.0</td>\n",
       "      <td>0.0</td>\n",
       "      <td>0.0</td>\n",
       "      <td>12.0</td>\n",
       "      <td>13.0</td>\n",
       "      <td>0.0</td>\n",
       "      <td>0.0</td>\n",
       "      <td>0.0</td>\n",
       "      <td>0.0</td>\n",
       "      <td>0.0</td>\n",
       "      <td>...</td>\n",
       "      <td>0.0</td>\n",
       "      <td>0.0</td>\n",
       "      <td>0.0</td>\n",
       "      <td>1.0</td>\n",
       "      <td>9.0</td>\n",
       "      <td>15.0</td>\n",
       "      <td>11.0</td>\n",
       "      <td>3.0</td>\n",
       "      <td>0.0</td>\n",
       "      <td>6</td>\n",
       "    </tr>\n",
       "    <tr>\n",
       "      <th>7</th>\n",
       "      <td>0.0</td>\n",
       "      <td>0.0</td>\n",
       "      <td>7.0</td>\n",
       "      <td>8.0</td>\n",
       "      <td>13.0</td>\n",
       "      <td>16.0</td>\n",
       "      <td>15.0</td>\n",
       "      <td>1.0</td>\n",
       "      <td>0.0</td>\n",
       "      <td>0.0</td>\n",
       "      <td>...</td>\n",
       "      <td>0.0</td>\n",
       "      <td>0.0</td>\n",
       "      <td>0.0</td>\n",
       "      <td>13.0</td>\n",
       "      <td>5.0</td>\n",
       "      <td>0.0</td>\n",
       "      <td>0.0</td>\n",
       "      <td>0.0</td>\n",
       "      <td>0.0</td>\n",
       "      <td>7</td>\n",
       "    </tr>\n",
       "    <tr>\n",
       "      <th>8</th>\n",
       "      <td>0.0</td>\n",
       "      <td>0.0</td>\n",
       "      <td>9.0</td>\n",
       "      <td>14.0</td>\n",
       "      <td>8.0</td>\n",
       "      <td>1.0</td>\n",
       "      <td>0.0</td>\n",
       "      <td>0.0</td>\n",
       "      <td>0.0</td>\n",
       "      <td>0.0</td>\n",
       "      <td>...</td>\n",
       "      <td>0.0</td>\n",
       "      <td>0.0</td>\n",
       "      <td>0.0</td>\n",
       "      <td>11.0</td>\n",
       "      <td>16.0</td>\n",
       "      <td>15.0</td>\n",
       "      <td>11.0</td>\n",
       "      <td>1.0</td>\n",
       "      <td>0.0</td>\n",
       "      <td>8</td>\n",
       "    </tr>\n",
       "    <tr>\n",
       "      <th>9</th>\n",
       "      <td>0.0</td>\n",
       "      <td>0.0</td>\n",
       "      <td>11.0</td>\n",
       "      <td>12.0</td>\n",
       "      <td>0.0</td>\n",
       "      <td>0.0</td>\n",
       "      <td>0.0</td>\n",
       "      <td>0.0</td>\n",
       "      <td>0.0</td>\n",
       "      <td>2.0</td>\n",
       "      <td>...</td>\n",
       "      <td>0.0</td>\n",
       "      <td>0.0</td>\n",
       "      <td>0.0</td>\n",
       "      <td>9.0</td>\n",
       "      <td>12.0</td>\n",
       "      <td>13.0</td>\n",
       "      <td>3.0</td>\n",
       "      <td>0.0</td>\n",
       "      <td>0.0</td>\n",
       "      <td>9</td>\n",
       "    </tr>\n",
       "    <tr>\n",
       "      <th>10</th>\n",
       "      <td>0.0</td>\n",
       "      <td>0.0</td>\n",
       "      <td>1.0</td>\n",
       "      <td>9.0</td>\n",
       "      <td>15.0</td>\n",
       "      <td>11.0</td>\n",
       "      <td>0.0</td>\n",
       "      <td>0.0</td>\n",
       "      <td>0.0</td>\n",
       "      <td>0.0</td>\n",
       "      <td>...</td>\n",
       "      <td>0.0</td>\n",
       "      <td>0.0</td>\n",
       "      <td>0.0</td>\n",
       "      <td>1.0</td>\n",
       "      <td>10.0</td>\n",
       "      <td>13.0</td>\n",
       "      <td>3.0</td>\n",
       "      <td>0.0</td>\n",
       "      <td>0.0</td>\n",
       "      <td>0</td>\n",
       "    </tr>\n",
       "    <tr>\n",
       "      <th>11</th>\n",
       "      <td>0.0</td>\n",
       "      <td>0.0</td>\n",
       "      <td>0.0</td>\n",
       "      <td>0.0</td>\n",
       "      <td>14.0</td>\n",
       "      <td>13.0</td>\n",
       "      <td>1.0</td>\n",
       "      <td>0.0</td>\n",
       "      <td>0.0</td>\n",
       "      <td>0.0</td>\n",
       "      <td>...</td>\n",
       "      <td>0.0</td>\n",
       "      <td>0.0</td>\n",
       "      <td>0.0</td>\n",
       "      <td>0.0</td>\n",
       "      <td>1.0</td>\n",
       "      <td>13.0</td>\n",
       "      <td>16.0</td>\n",
       "      <td>1.0</td>\n",
       "      <td>0.0</td>\n",
       "      <td>1</td>\n",
       "    </tr>\n",
       "    <tr>\n",
       "      <th>12</th>\n",
       "      <td>0.0</td>\n",
       "      <td>0.0</td>\n",
       "      <td>5.0</td>\n",
       "      <td>12.0</td>\n",
       "      <td>1.0</td>\n",
       "      <td>0.0</td>\n",
       "      <td>0.0</td>\n",
       "      <td>0.0</td>\n",
       "      <td>0.0</td>\n",
       "      <td>0.0</td>\n",
       "      <td>...</td>\n",
       "      <td>2.0</td>\n",
       "      <td>0.0</td>\n",
       "      <td>0.0</td>\n",
       "      <td>3.0</td>\n",
       "      <td>11.0</td>\n",
       "      <td>8.0</td>\n",
       "      <td>13.0</td>\n",
       "      <td>12.0</td>\n",
       "      <td>4.0</td>\n",
       "      <td>2</td>\n",
       "    </tr>\n",
       "    <tr>\n",
       "      <th>13</th>\n",
       "      <td>0.0</td>\n",
       "      <td>2.0</td>\n",
       "      <td>9.0</td>\n",
       "      <td>15.0</td>\n",
       "      <td>14.0</td>\n",
       "      <td>9.0</td>\n",
       "      <td>3.0</td>\n",
       "      <td>0.0</td>\n",
       "      <td>0.0</td>\n",
       "      <td>4.0</td>\n",
       "      <td>...</td>\n",
       "      <td>0.0</td>\n",
       "      <td>0.0</td>\n",
       "      <td>2.0</td>\n",
       "      <td>12.0</td>\n",
       "      <td>12.0</td>\n",
       "      <td>13.0</td>\n",
       "      <td>11.0</td>\n",
       "      <td>0.0</td>\n",
       "      <td>0.0</td>\n",
       "      <td>3</td>\n",
       "    </tr>\n",
       "    <tr>\n",
       "      <th>14</th>\n",
       "      <td>0.0</td>\n",
       "      <td>0.0</td>\n",
       "      <td>0.0</td>\n",
       "      <td>8.0</td>\n",
       "      <td>15.0</td>\n",
       "      <td>1.0</td>\n",
       "      <td>0.0</td>\n",
       "      <td>0.0</td>\n",
       "      <td>0.0</td>\n",
       "      <td>0.0</td>\n",
       "      <td>...</td>\n",
       "      <td>0.0</td>\n",
       "      <td>0.0</td>\n",
       "      <td>0.0</td>\n",
       "      <td>0.0</td>\n",
       "      <td>10.0</td>\n",
       "      <td>15.0</td>\n",
       "      <td>4.0</td>\n",
       "      <td>0.0</td>\n",
       "      <td>0.0</td>\n",
       "      <td>4</td>\n",
       "    </tr>\n",
       "  </tbody>\n",
       "</table>\n",
       "<p>15 rows × 65 columns</p>\n",
       "</div>"
      ],
      "text/plain": [
       "      0    1     2     3     4     5     6    7    8    9  ...   55   56   57  \\\n",
       "0   0.0  0.0   5.0  13.0   9.0   1.0   0.0  0.0  0.0  0.0  ...  0.0  0.0  0.0   \n",
       "1   0.0  0.0   0.0  12.0  13.0   5.0   0.0  0.0  0.0  0.0  ...  0.0  0.0  0.0   \n",
       "2   0.0  0.0   0.0   4.0  15.0  12.0   0.0  0.0  0.0  0.0  ...  0.0  0.0  0.0   \n",
       "3   0.0  0.0   7.0  15.0  13.0   1.0   0.0  0.0  0.0  8.0  ...  0.0  0.0  0.0   \n",
       "4   0.0  0.0   0.0   1.0  11.0   0.0   0.0  0.0  0.0  0.0  ...  0.0  0.0  0.0   \n",
       "5   0.0  0.0  12.0  10.0   0.0   0.0   0.0  0.0  0.0  0.0  ...  0.0  0.0  0.0   \n",
       "6   0.0  0.0   0.0  12.0  13.0   0.0   0.0  0.0  0.0  0.0  ...  0.0  0.0  0.0   \n",
       "7   0.0  0.0   7.0   8.0  13.0  16.0  15.0  1.0  0.0  0.0  ...  0.0  0.0  0.0   \n",
       "8   0.0  0.0   9.0  14.0   8.0   1.0   0.0  0.0  0.0  0.0  ...  0.0  0.0  0.0   \n",
       "9   0.0  0.0  11.0  12.0   0.0   0.0   0.0  0.0  0.0  2.0  ...  0.0  0.0  0.0   \n",
       "10  0.0  0.0   1.0   9.0  15.0  11.0   0.0  0.0  0.0  0.0  ...  0.0  0.0  0.0   \n",
       "11  0.0  0.0   0.0   0.0  14.0  13.0   1.0  0.0  0.0  0.0  ...  0.0  0.0  0.0   \n",
       "12  0.0  0.0   5.0  12.0   1.0   0.0   0.0  0.0  0.0  0.0  ...  2.0  0.0  0.0   \n",
       "13  0.0  2.0   9.0  15.0  14.0   9.0   3.0  0.0  0.0  4.0  ...  0.0  0.0  2.0   \n",
       "14  0.0  0.0   0.0   8.0  15.0   1.0   0.0  0.0  0.0  0.0  ...  0.0  0.0  0.0   \n",
       "\n",
       "      58    59    60    61    62   63  classe  \n",
       "0    6.0  13.0  10.0   0.0   0.0  0.0       0  \n",
       "1    0.0  11.0  16.0  10.0   0.0  0.0       1  \n",
       "2    0.0   3.0  11.0  16.0   9.0  0.0       2  \n",
       "3    7.0  13.0  13.0   9.0   0.0  0.0       3  \n",
       "4    0.0   2.0  16.0   4.0   0.0  0.0       4  \n",
       "5    9.0  16.0  16.0  10.0   0.0  0.0       5  \n",
       "6    1.0   9.0  15.0  11.0   3.0  0.0       6  \n",
       "7   13.0   5.0   0.0   0.0   0.0  0.0       7  \n",
       "8   11.0  16.0  15.0  11.0   1.0  0.0       8  \n",
       "9    9.0  12.0  13.0   3.0   0.0  0.0       9  \n",
       "10   1.0  10.0  13.0   3.0   0.0  0.0       0  \n",
       "11   0.0   1.0  13.0  16.0   1.0  0.0       1  \n",
       "12   3.0  11.0   8.0  13.0  12.0  4.0       2  \n",
       "13  12.0  12.0  13.0  11.0   0.0  0.0       3  \n",
       "14   0.0  10.0  15.0   4.0   0.0  0.0       4  \n",
       "\n",
       "[15 rows x 65 columns]"
      ]
     },
     "execution_count": 92,
     "metadata": {},
     "output_type": "execute_result"
    }
   ],
   "source": [
    "dados.head(15)"
   ]
  },
  {
   "cell_type": "markdown",
   "id": "74d553a2",
   "metadata": {},
   "source": [
    "Normalizando os dados"
   ]
  },
  {
   "cell_type": "markdown",
   "id": "7c17b566",
   "metadata": {},
   "source": [
    "O PCA é afetado por escala, então é necessário padronizar os dados antes de aplicar o PCA.\n",
    "\n",
    "StandardScaler ajuda a padronizar os recursos do conjunto de dados. "
   ]
  },
  {
   "cell_type": "code",
   "execution_count": 97,
   "id": "81a69a29",
   "metadata": {},
   "outputs": [],
   "source": [
    "x=dados.iloc[:,0:64].values\n",
    "#y=dados['classe']\n",
    "y=dados.iloc[:,64]\n"
   ]
  },
  {
   "cell_type": "code",
   "execution_count": 98,
   "id": "13e433d7",
   "metadata": {},
   "outputs": [],
   "source": [
    "from sklearn.preprocessing import StandardScaler\n",
    "scaler=StandardScaler()\n",
    "scaler.fit(x)\n",
    "X_norm=scaler.transform(x)\n"
   ]
  },
  {
   "cell_type": "markdown",
   "id": "6b313e4e",
   "metadata": {},
   "source": [
    "Utilização do PCA "
   ]
  },
  {
   "cell_type": "code",
   "execution_count": 99,
   "id": "aef3f00a",
   "metadata": {},
   "outputs": [
    {
     "name": "stdout",
     "output_type": "stream",
     "text": [
      "[0.12033916097342645, 0.21594970495372987, 0.30039385388766576, 0.36537792821073245, 0.4139794763722495, 0.45612055265828955, 0.49552187707976675, 0.5293858092021735, 0.5593348262290171, 0.5886815255971048, 0.6165374292202142, 0.6422797362518511, 0.6650411291257897, 0.6873138040886149, 0.7089827677805758, 0.7281042068049873, 0.7458483452400119, 0.7622109421422387, 0.7782124120856924, 0.7930472262585646, 0.8065781835500089, 0.819311584575889, 0.8309271706225041, 0.8414897971058859, 0.851178259913379, 0.8607056826300209, 0.8693020131616531, 0.8776404264889803, 0.8856371269100974, 0.8931727895783363, 0.9004005440522073, 0.9071683433505855, 0.9138800311598627, 0.9203072866079999, 0.9262145006294604, 0.9319269205897172, 0.93714650880399, 0.9419958434655488, 0.9464864895245955, 0.9507538190062562, 0.9548211970870375, 0.9588063360381037, 0.9623652416990055, 0.9657706896955497, 0.969052853505263, 0.9721676569344682, 0.9750539085318299, 0.9778183601441921, 0.9804136871775431, 0.9827585927075599, 0.9849417631792733, 0.9869777395245267, 0.9889328637847249, 0.9907660487766967, 0.9924455126516525, 0.9940578732742197, 0.9955355002152806, 0.9968866843286515, 0.9981376917536244, 0.9991746490551816, 0.9999999999999997, 0.9999999999999997, 0.9999999999999997, 0.9999999999999997]\n"
     ]
    },
    {
     "data": {
      "image/png": "[encoded data removed]",
      "text/plain": [
       "<Figure size 576x432 with 1 Axes>"
      ]
     },
     "metadata": {
      "needs_background": "light"
     },
     "output_type": "display_data"
    }
   ],
   "source": [
    "dimensoes=list(range(1,65,1))\n",
    "\n",
    "var_acumulada=[]\n",
    "\n",
    "for d in dimensoes:\n",
    "    pca=PCA(n_components=d)\n",
    "    pca.fit(X_norm)\n",
    "    Xtreino_pca=pca.transform(X_norm)\n",
    "    var=(sum(pca.explained_variance_ratio_))\n",
    "    var_acumulada.append(var)\n",
    "    \n",
    "print(var_acumulada)\n",
    " \n",
    "\n",
    "# Gráfico das Variâncias\n",
    "\n",
    "fig, ax = plt.subplots(figsize=(8,6))\n",
    "ax.bar(range(1,65), var_acumulada)\n",
    "ax.set_xlabel('Número de Componentes Principais')\n",
    "ax.set_ylabel('% Variância Explicada');\n",
    "    \n",
    "    "
   ]
  },
  {
   "cell_type": "code",
   "execution_count": 136,
   "id": "3c85c997",
   "metadata": {},
   "outputs": [
    {
     "name": "stdout",
     "output_type": "stream",
     "text": [
      "0.900408799119564\n"
     ]
    }
   ],
   "source": [
    "pca=PCA(n_components=31)\n",
    "pca.fit(X_norm)\n",
    "X_pca=pca.transform(X_norm)\n",
    "print(sum(pca.explained_variance_ratio_))\n"
   ]
  },
  {
   "cell_type": "code",
   "execution_count": 137,
   "id": "f6b8fb5f",
   "metadata": {},
   "outputs": [],
   "source": [
    "#SVD (Single Value Decomposition)\n",
    "#Redução de Dimensionalidade\n",
    "#from sklearn.decomposition import TruncatedSVD\n",
    "#svd=TruncatedSVD(n_components=3)\n",
    "#svd.fit(Xtreino)\n",
    "#XSVD=svd.transform(Xtreino)\n",
    "#X_t_SVD=svd.transform(Xteste)"
   ]
  },
  {
   "cell_type": "markdown",
   "id": "8d18f00a",
   "metadata": {},
   "source": [
    "Divisão dos Dados em Treino e Teste\n",
    "70% para treinamento e 30% para teste"
   ]
  },
  {
   "cell_type": "code",
   "execution_count": 138,
   "id": "53a1e4e0",
   "metadata": {},
   "outputs": [],
   "source": [
    "from sklearn.model_selection import train_test_split\n",
    "Xtreino,Xteste,Ytreino,Yteste= train_test_split(X_pca,y,test_size=0.3)"
   ]
  },
  {
   "cell_type": "code",
   "execution_count": 139,
   "id": "868e3bfe",
   "metadata": {},
   "outputs": [
    {
     "data": {
      "text/plain": [
       "(1257, 31)"
      ]
     },
     "execution_count": 139,
     "metadata": {},
     "output_type": "execute_result"
    }
   ],
   "source": [
    "Xtreino.shape"
   ]
  },
  {
   "cell_type": "code",
   "execution_count": 140,
   "id": "9bb7df76",
   "metadata": {},
   "outputs": [
    {
     "data": {
      "text/plain": [
       "(540, 31)"
      ]
     },
     "execution_count": 140,
     "metadata": {},
     "output_type": "execute_result"
    }
   ],
   "source": [
    "Xteste.shape"
   ]
  },
  {
   "cell_type": "markdown",
   "id": "947f6cde",
   "metadata": {},
   "source": [
    "Treinando o Modelo\n",
    "\n",
    "Utilizando KNN com k=3."
   ]
  },
  {
   "cell_type": "code",
   "execution_count": 141,
   "id": "b1ffd7d8",
   "metadata": {},
   "outputs": [
    {
     "data": {
      "text/plain": [
       "KNeighborsClassifier(n_neighbors=3)"
      ]
     },
     "execution_count": 141,
     "metadata": {},
     "output_type": "execute_result"
    }
   ],
   "source": [
    "from sklearn.neighbors import KNeighborsClassifier\n",
    "knn=KNeighborsClassifier(n_neighbors=3)\n",
    "knn.fit(Xtreino,Ytreino)"
   ]
  },
  {
   "cell_type": "code",
   "execution_count": 142,
   "id": "6be0f1e5",
   "metadata": {},
   "outputs": [
    {
     "data": {
      "text/plain": [
       "array([7, 6, 4, 5, 3, 8, 0, 1, 4, 3, 9, 7, 7, 8, 1, 9, 1, 9, 2, 0, 0, 8,\n",
       "       5, 4, 6, 0, 6, 8, 7, 0, 5, 6, 8, 9, 1, 5, 3, 6, 2, 6, 6, 4, 9, 2,\n",
       "       7, 9, 0, 3, 4, 4, 8, 6, 1, 8, 7, 3, 5, 3, 7, 6, 1, 1, 8, 5, 4, 7,\n",
       "       0, 6, 6, 4, 6, 2, 6, 4, 7, 6, 1, 4, 7, 7, 2, 1, 0, 4, 5, 0, 2, 9,\n",
       "       4, 6, 6, 7, 4, 4, 9, 7, 7, 1, 4, 9, 4, 4, 2, 2, 5, 2, 2, 4, 8, 5,\n",
       "       2, 5, 5, 1, 8, 0, 6, 3, 9, 5, 8, 4, 3, 2, 6, 6, 8, 6, 0, 0, 1, 7,\n",
       "       4, 0, 5, 6, 3, 0, 2, 6, 1, 1, 2, 4, 7, 9, 5, 1, 8, 4, 4, 9, 9, 5,\n",
       "       2, 1, 7, 8, 0, 8, 0, 5, 8, 2, 5, 8, 4, 5, 9, 5, 9, 6, 4, 2, 5, 1,\n",
       "       0, 5, 0, 3, 0, 9, 5, 1, 5, 8, 3, 9, 5, 7, 0, 5, 6, 7, 7, 3, 9, 6,\n",
       "       8, 5, 4, 1, 2, 7, 9, 0, 7, 9, 6, 0, 8, 3, 1, 2, 9, 8, 2, 0, 8, 3,\n",
       "       1, 3, 5, 2, 7, 0, 9, 6, 4, 6, 2, 7, 8, 1, 5, 1, 3, 8, 5, 7, 0, 2,\n",
       "       0, 1, 8, 5, 7, 6, 7, 0, 3, 8, 3, 8, 4, 4, 0, 9, 1, 7, 1, 2, 4, 6,\n",
       "       8, 7, 2, 0, 4, 3, 1, 5, 9, 0, 2, 6, 6, 6, 4, 3, 2, 8, 4, 4, 2, 6,\n",
       "       5, 0, 1, 5, 6, 8, 7, 5, 0, 1, 7, 6, 6, 4, 2, 7, 5, 3, 4, 7, 7, 2,\n",
       "       4, 3, 5, 8, 2, 4, 8, 8, 0, 6, 5, 4, 4, 3, 5, 3, 9, 8, 3, 7, 7, 7,\n",
       "       8, 3, 6, 9, 3, 0, 4, 3, 3, 9, 2, 7, 5, 7, 5, 3, 6, 9, 1, 8, 7, 3,\n",
       "       5, 1, 0, 6, 0, 5, 3, 8, 1, 0, 3, 2, 5, 1, 6, 0, 5, 8, 2, 9, 6, 3,\n",
       "       7, 9, 1, 8, 4, 5, 2, 1, 6, 4, 7, 5, 7, 5, 6, 1, 3, 0, 7, 9, 5, 7,\n",
       "       1, 2, 4, 3, 1, 9, 5, 2, 8, 3, 0, 2, 1, 9, 4, 8, 7, 0, 0, 1, 0, 2,\n",
       "       3, 1, 0, 4, 6, 9, 6, 3, 2, 3, 4, 7, 8, 4, 0, 2, 9, 1, 1, 2, 4, 1,\n",
       "       3, 0, 0, 2, 2, 3, 8, 6, 2, 5, 6, 9, 5, 0, 2, 6, 0, 5, 1, 3, 5, 2,\n",
       "       7, 8, 6, 6, 7, 5, 3, 0, 6, 7, 1, 3, 2, 2, 7, 8, 5, 5, 6, 9, 0, 8,\n",
       "       0, 5, 0, 4, 7, 5, 5, 2, 1, 9, 4, 9, 5, 5, 1, 0, 6, 7, 9, 4, 0, 7,\n",
       "       7, 5, 9, 1, 9, 9, 4, 6, 1, 7, 3, 4, 2, 9, 2, 6, 0, 5, 1, 4, 2, 6,\n",
       "       6, 7, 1, 6, 3, 5, 8, 9, 9, 1, 5, 8])"
      ]
     },
     "execution_count": 142,
     "metadata": {},
     "output_type": "execute_result"
    }
   ],
   "source": [
    "Yprev=knn.predict(Xteste)\n",
    "Yprev"
   ]
  },
  {
   "cell_type": "code",
   "execution_count": 143,
   "id": "5f973fd0",
   "metadata": {},
   "outputs": [
    {
     "name": "stdout",
     "output_type": "stream",
     "text": [
      "              precision    recall  f1-score   support\n",
      "\n",
      "           0       1.00      1.00      1.00        56\n",
      "           1       0.98      1.00      0.99        52\n",
      "           2       0.98      0.98      0.98        53\n",
      "           3       0.94      0.94      0.94        47\n",
      "           4       1.00      0.98      0.99        56\n",
      "           5       0.97      0.94      0.95        67\n",
      "           6       0.97      1.00      0.98        58\n",
      "           7       0.95      0.98      0.96        55\n",
      "           8       0.94      0.94      0.94        48\n",
      "           9       0.96      0.92      0.94        48\n",
      "\n",
      "    accuracy                           0.97       540\n",
      "   macro avg       0.97      0.97      0.97       540\n",
      "weighted avg       0.97      0.97      0.97       540\n",
      "\n"
     ]
    }
   ],
   "source": [
    "from sklearn import metrics\n",
    "print(metrics.classification_report(Yteste,Yprev))"
   ]
  },
  {
   "cell_type": "code",
   "execution_count": 144,
   "id": "adee2808",
   "metadata": {},
   "outputs": [
    {
     "name": "stdout",
     "output_type": "stream",
     "text": [
      "[[56  0  0  0  0  0  0  0  0  0]\n",
      " [ 0 52  0  0  0  0  0  0  0  0]\n",
      " [ 0  0 52  0  0  0  0  0  1  0]\n",
      " [ 0  0  1 44  0  1  0  0  1  0]\n",
      " [ 0  0  0  0 55  0  0  1  0  0]\n",
      " [ 0  0  0  1  0 63  1  0  0  2]\n",
      " [ 0  0  0  0  0  0 58  0  0  0]\n",
      " [ 0  0  0  0  0  1  0 54  0  0]\n",
      " [ 0  1  0  1  0  0  0  1 45  0]\n",
      " [ 0  0  0  1  0  0  1  1  1 44]]\n"
     ]
    }
   ],
   "source": [
    "from sklearn.metrics import  confusion_matrix\n",
    "matriz_conf=confusion_matrix(Yteste,Yprev)\n",
    "print(matriz_conf)"
   ]
  },
  {
   "cell_type": "markdown",
   "id": "38225a0c",
   "metadata": {},
   "source": [
    "Utilizando Validação Cruzada"
   ]
  },
  {
   "cell_type": "code",
   "execution_count": 145,
   "id": "a97b4545",
   "metadata": {},
   "outputs": [
    {
     "data": {
      "text/plain": [
       "array([0.93611111, 0.92222222, 0.95543175, 0.96935933, 0.94428969])"
      ]
     },
     "execution_count": 145,
     "metadata": {},
     "output_type": "execute_result"
    }
   ],
   "source": [
    "from sklearn.model_selection import cross_val_score\n",
    "scores=cross_val_score(knn,X_pca,y,cv=5)\n",
    "scores"
   ]
  },
  {
   "cell_type": "markdown",
   "id": "c2a951ca",
   "metadata": {},
   "source": [
    "Procurando o melhor valor para K\n",
    "\n",
    "Outra opção é utilizar a função GridSearch para encontrar o melhor valor de K para o algoritmo KNN."
   ]
  },
  {
   "cell_type": "code",
   "execution_count": 146,
   "id": "14708a93",
   "metadata": {},
   "outputs": [],
   "source": [
    "from sklearn.model_selection import GridSearchCV"
   ]
  },
  {
   "cell_type": "code",
   "execution_count": 147,
   "id": "563e8d78",
   "metadata": {},
   "outputs": [],
   "source": [
    "k_lista=list(range(1,31))"
   ]
  },
  {
   "cell_type": "code",
   "execution_count": 148,
   "id": "a1a15010",
   "metadata": {},
   "outputs": [],
   "source": [
    "k_valores=dict(n_neighbors=k_lista)\n"
   ]
  },
  {
   "cell_type": "code",
   "execution_count": 149,
   "id": "7ebe4ac3",
   "metadata": {},
   "outputs": [
    {
     "data": {
      "text/plain": [
       "GridSearchCV(cv=5, estimator=KNeighborsClassifier(n_neighbors=3),\n",
       "             param_grid={'n_neighbors': [1, 2, 3, 4, 5, 6, 7, 8, 9, 10, 11, 12,\n",
       "                                         13, 14, 15, 16, 17, 18, 19, 20, 21, 22,\n",
       "                                         23, 24, 25, 26, 27, 28, 29, 30]},\n",
       "             scoring='accuracy')"
      ]
     },
     "execution_count": 149,
     "metadata": {},
     "output_type": "execute_result"
    }
   ],
   "source": [
    "grid=GridSearchCV(knn,k_valores,cv=5, scoring='accuracy')\n",
    "grid.fit(X_pca,y)"
   ]
  },
  {
   "cell_type": "code",
   "execution_count": 150,
   "id": "725cd0ee",
   "metadata": {},
   "outputs": [
    {
     "data": {
      "text/plain": [
       "{'mean_fit_time': array([0.00239916, 0.        , 0.0018116 , 0.00120168, 0.00202317,\n",
       "        0.00376616, 0.00335774, 0.0014008 , 0.00049858, 0.00290146,\n",
       "        0.00141263, 0.00071096, 0.00100536, 0.00171604, 0.00040531,\n",
       "        0.00200882, 0.00180373, 0.00291886, 0.00111446, 0.00252719,\n",
       "        0.00291896, 0.00204163, 0.00142522, 0.00140715, 0.00190372,\n",
       "        0.00292435, 0.00141582, 0.00040803, 0.0031179 , 0.00140438]),\n",
       " 'std_fit_time': array([0.00162706, 0.        , 0.00098812, 0.00194288, 0.00180062,\n",
       "        0.00332005, 0.00369489, 0.00231852, 0.00076645, 0.00317143,\n",
       "        0.00197518, 0.00088492, 0.00201073, 0.00167218, 0.00081062,\n",
       "        0.0019048 , 0.00183785, 0.00342511, 0.00120481, 0.00169016,\n",
       "        0.0022525 , 0.00317828, 0.0019879 , 0.00281429, 0.00202251,\n",
       "        0.00241507, 0.00087355, 0.00081606, 0.00382193, 0.00196952]),\n",
       " 'mean_score_time': array([0.03215394, 0.03251095, 0.0357162 , 0.03800964, 0.03934402,\n",
       "        0.0333571 , 0.04059377, 0.0376317 , 0.04204397, 0.03655081,\n",
       "        0.0362268 , 0.04006538, 0.04463472, 0.03687882, 0.03718715,\n",
       "        0.04224696, 0.03873315, 0.03993144, 0.03958449, 0.03551359,\n",
       "        0.03395801, 0.03797631, 0.03646488, 0.03976645, 0.03726068,\n",
       "        0.03944836, 0.03837357, 0.03959966, 0.03565044, 0.0378428 ]),\n",
       " 'std_score_time': array([0.00504285, 0.00404002, 0.00850299, 0.00519312, 0.00849172,\n",
       "        0.00322281, 0.00639061, 0.00431433, 0.00665192, 0.00337831,\n",
       "        0.00398985, 0.00632826, 0.00401129, 0.00209233, 0.00302592,\n",
       "        0.00399415, 0.00718585, 0.00412116, 0.00439243, 0.00531764,\n",
       "        0.00240138, 0.00708362, 0.00370387, 0.00109847, 0.004323  ,\n",
       "        0.00418044, 0.00280983, 0.00570605, 0.00387365, 0.006145  ]),\n",
       " 'param_n_neighbors': masked_array(data=[1, 2, 3, 4, 5, 6, 7, 8, 9, 10, 11, 12, 13, 14, 15, 16,\n",
       "                    17, 18, 19, 20, 21, 22, 23, 24, 25, 26, 27, 28, 29, 30],\n",
       "              mask=[False, False, False, False, False, False, False, False,\n",
       "                    False, False, False, False, False, False, False, False,\n",
       "                    False, False, False, False, False, False, False, False,\n",
       "                    False, False, False, False, False, False],\n",
       "        fill_value='?',\n",
       "             dtype=object),\n",
       " 'params': [{'n_neighbors': 1},\n",
       "  {'n_neighbors': 2},\n",
       "  {'n_neighbors': 3},\n",
       "  {'n_neighbors': 4},\n",
       "  {'n_neighbors': 5},\n",
       "  {'n_neighbors': 6},\n",
       "  {'n_neighbors': 7},\n",
       "  {'n_neighbors': 8},\n",
       "  {'n_neighbors': 9},\n",
       "  {'n_neighbors': 10},\n",
       "  {'n_neighbors': 11},\n",
       "  {'n_neighbors': 12},\n",
       "  {'n_neighbors': 13},\n",
       "  {'n_neighbors': 14},\n",
       "  {'n_neighbors': 15},\n",
       "  {'n_neighbors': 16},\n",
       "  {'n_neighbors': 17},\n",
       "  {'n_neighbors': 18},\n",
       "  {'n_neighbors': 19},\n",
       "  {'n_neighbors': 20},\n",
       "  {'n_neighbors': 21},\n",
       "  {'n_neighbors': 22},\n",
       "  {'n_neighbors': 23},\n",
       "  {'n_neighbors': 24},\n",
       "  {'n_neighbors': 25},\n",
       "  {'n_neighbors': 26},\n",
       "  {'n_neighbors': 27},\n",
       "  {'n_neighbors': 28},\n",
       "  {'n_neighbors': 29},\n",
       "  {'n_neighbors': 30}],\n",
       " 'split0_test_score': array([0.93611111, 0.925     , 0.93611111, 0.91666667, 0.92222222,\n",
       "        0.91111111, 0.91388889, 0.91388889, 0.91111111, 0.90277778,\n",
       "        0.91111111, 0.89444444, 0.89722222, 0.90277778, 0.89722222,\n",
       "        0.90277778, 0.9       , 0.9       , 0.89722222, 0.89444444,\n",
       "        0.9       , 0.89722222, 0.90277778, 0.90277778, 0.90555556,\n",
       "        0.90555556, 0.90555556, 0.9       , 0.9       , 0.90277778]),\n",
       " 'split1_test_score': array([0.91111111, 0.91944444, 0.92222222, 0.925     , 0.92222222,\n",
       "        0.925     , 0.93055556, 0.92777778, 0.925     , 0.925     ,\n",
       "        0.92222222, 0.91388889, 0.91944444, 0.91388889, 0.91388889,\n",
       "        0.91944444, 0.91666667, 0.91388889, 0.91388889, 0.90833333,\n",
       "        0.90833333, 0.90277778, 0.9       , 0.89444444, 0.89722222,\n",
       "        0.90277778, 0.89722222, 0.89444444, 0.88888889, 0.88888889]),\n",
       " 'split2_test_score': array([0.95821727, 0.94986072, 0.95543175, 0.95543175, 0.95543175,\n",
       "        0.95821727, 0.96100279, 0.95821727, 0.95543175, 0.94986072,\n",
       "        0.94707521, 0.94986072, 0.94707521, 0.94986072, 0.94986072,\n",
       "        0.94986072, 0.94150418, 0.94428969, 0.93593315, 0.93593315,\n",
       "        0.93593315, 0.93593315, 0.93593315, 0.93871866, 0.93871866,\n",
       "        0.93871866, 0.91364903, 0.91643454, 0.91643454, 0.91922006]),\n",
       " 'split3_test_score': array([0.9637883 , 0.95264624, 0.96935933, 0.95264624, 0.96935933,\n",
       "        0.96100279, 0.9637883 , 0.9637883 , 0.96657382, 0.96657382,\n",
       "        0.96657382, 0.96100279, 0.96100279, 0.95264624, 0.95821727,\n",
       "        0.94986072, 0.95543175, 0.95821727, 0.95821727, 0.95543175,\n",
       "        0.95543175, 0.94707521, 0.95543175, 0.94707521, 0.94707521,\n",
       "        0.94707521, 0.94986072, 0.94707521, 0.94707521, 0.94428969]),\n",
       " 'split4_test_score': array([0.93314763, 0.93314763, 0.94428969, 0.93871866, 0.94428969,\n",
       "        0.94150418, 0.93871866, 0.93036212, 0.94150418, 0.93314763,\n",
       "        0.93036212, 0.93314763, 0.93036212, 0.93314763, 0.93314763,\n",
       "        0.93036212, 0.93314763, 0.93593315, 0.93593315, 0.93593315,\n",
       "        0.93314763, 0.93314763, 0.93314763, 0.93593315, 0.93036212,\n",
       "        0.93036212, 0.93036212, 0.9275766 , 0.9275766 , 0.9275766 ]),\n",
       " 'mean_test_score': array([0.94047509, 0.93601981, 0.94548282, 0.93769266, 0.94270504,\n",
       "        0.93936707, 0.94159084, 0.93880687, 0.93992417, 0.93547199,\n",
       "        0.9354689 , 0.9304689 , 0.93102136, 0.93046425, 0.93046735,\n",
       "        0.93046116, 0.92935005, 0.9304658 , 0.92823894, 0.92601517,\n",
       "        0.92656917, 0.9232312 , 0.92545806, 0.92378985, 0.92378675,\n",
       "        0.92489786, 0.91932993, 0.91710616, 0.91599505, 0.9165506 ]),\n",
       " 'std_test_score': array([0.01893816, 0.01320937, 0.01612065, 0.01511644, 0.01851498,\n",
       "        0.01914583, 0.01879881, 0.01905096, 0.02003052, 0.0217179 ,\n",
       "        0.01947859, 0.02403412, 0.02206107, 0.01957931, 0.02250968,\n",
       "        0.01811316, 0.01931162, 0.02094801, 0.02090484, 0.02177809,\n",
       "        0.02001237, 0.01961133, 0.02111771, 0.0210485 , 0.0192177 ,\n",
       "        0.01775461, 0.01878614, 0.01904941, 0.02044939, 0.01925106]),\n",
       " 'rank_test_score': array([ 4,  9,  1,  8,  2,  6,  3,  7,  5, 10, 11, 13, 12, 16, 14, 17, 18,\n",
       "        15, 19, 21, 20, 26, 22, 24, 25, 23, 27, 28, 30, 29])}"
      ]
     },
     "execution_count": 150,
     "metadata": {},
     "output_type": "execute_result"
    }
   ],
   "source": [
    "grid.cv_results_"
   ]
  },
  {
   "cell_type": "code",
   "execution_count": 151,
   "id": "5edaa3b6",
   "metadata": {},
   "outputs": [
    {
     "data": {
      "image/png": "[encoded data removed]",
      "text/plain": [
       "<Figure size 720x432 with 1 Axes>"
      ]
     },
     "metadata": {
      "needs_background": "light"
     },
     "output_type": "display_data"
    }
   ],
   "source": [
    "scores=[]\n",
    "results = grid.cv_results_\n",
    "for mean in results['mean_test_score']:\n",
    "    scores.append(mean)\n",
    "\n",
    "\n",
    "plt.figure(figsize=(10,6))\n",
    "plt.plot(k_lista,scores,color='red',linestyle='dashed',marker='o')\n",
    "plt.xlabel('k')\n",
    "plt.ylabel('accuracy')\n",
    "plt.show()"
   ]
  },
  {
   "cell_type": "code",
   "execution_count": 152,
   "id": "d005355c",
   "metadata": {},
   "outputs": [
    {
     "name": "stdout",
     "output_type": "stream",
     "text": [
      "Melhor valor de k = {'n_neighbors': 3} com o valor 0.9454828226555246 de acurácia\n"
     ]
    }
   ],
   "source": [
    "print(\"Melhor valor de k = {} com o valor {} de acurácia\".format(grid.best_params_,grid.best_score_))"
   ]
  },
  {
   "cell_type": "code",
   "execution_count": null,
   "id": "97804d1b",
   "metadata": {},
   "outputs": [],
   "source": []
  },
  {
   "cell_type": "code",
   "execution_count": null,
   "id": "299a8c08",
   "metadata": {},
   "outputs": [],
   "source": []
  }
 ],
 "metadata": {
  "kernelspec": {
   "display_name": "Python 3",
   "language": "python",
   "name": "python3"
  },
  "language_info": {
   "codemirror_mode": {
    "name": "ipython",
    "version": 3
   },
   "file_extension": ".py",
   "mimetype": "text/x-python",
   "name": "python",
   "nbconvert_exporter": "python",
   "pygments_lexer": "ipython3",
   "version": "3.8.8"
  }
 },
 "nbformat": 4,
 "nbformat_minor": 5
}
