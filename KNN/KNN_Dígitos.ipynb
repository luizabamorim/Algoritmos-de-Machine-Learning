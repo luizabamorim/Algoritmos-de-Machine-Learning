{
 "cells": [
  {
   "cell_type": "markdown",
   "id": "737d5f23",
   "metadata": {},
   "source": [
    "Conjunto de dados MNIST, que consiste em dígitos escritos à mão. \n",
    "\n",
    "O objetivo deste conjunto de dados é classificar corretamente os dígitos manuscritos de 0 a 9. Em vez de utilizar todo o conjunto de dados (que consiste em 60.000 imagens de treinamento e 10.000 imagens de teste), usaremos um pequeno subconjunto dos dados fornecidos pela biblioteca scikit-learn - este subconjunto inclui 1.797 dígitos."
   ]
  },
  {
   "cell_type": "code",
   "execution_count": 4,
   "id": "6f559837",
   "metadata": {},
   "outputs": [],
   "source": [
    "import numpy as np\n",
    "import pandas as pd\n",
    "from sklearn import datasets, svm,metrics\n",
    "import matplotlib.pyplot as plt"
   ]
  },
  {
   "cell_type": "markdown",
   "id": "91afff3a",
   "metadata": {},
   "source": [
    "Base de Dados do Sklearn"
   ]
  },
  {
   "cell_type": "code",
   "execution_count": 5,
   "id": "4d5afbec",
   "metadata": {},
   "outputs": [],
   "source": [
    "digitos=datasets.load_digits()"
   ]
  },
  {
   "cell_type": "code",
   "execution_count": 6,
   "id": "c29fd3da",
   "metadata": {},
   "outputs": [
    {
     "name": "stdout",
     "output_type": "stream",
     "text": [
      ".. _digits_dataset:\n",
      "\n",
      "Optical recognition of handwritten digits dataset\n",
      "--------------------------------------------------\n",
      "\n",
      "**Data Set Characteristics:**\n",
      "\n",
      "    :Number of Instances: 1797\n",
      "    :Number of Attributes: 64\n",
      "    :Attribute Information: 8x8 image of integer pixels in the range 0..16.\n",
      "    :Missing Attribute Values: None\n",
      "    :Creator: E. Alpaydin (alpaydin '@' boun.edu.tr)\n",
      "    :Date: July; 1998\n",
      "\n",
      "This is a copy of the test set of the UCI ML hand-written digits datasets\n",
      "https://archive.ics.uci.edu/ml/datasets/Optical+Recognition+of+Handwritten+Digits\n",
      "\n",
      "The data set contains images of hand-written digits: 10 classes where\n",
      "each class refers to a digit.\n",
      "\n",
      "Preprocessing programs made available by NIST were used to extract\n",
      "normalized bitmaps of handwritten digits from a preprinted form. From a\n",
      "total of 43 people, 30 contributed to the training set and different 13\n",
      "to the test set. 32x32 bitmaps are divided into nonoverlapping blocks of\n",
      "4x4 and the number of on pixels are counted in each block. This generates\n",
      "an input matrix of 8x8 where each element is an integer in the range\n",
      "0..16. This reduces dimensionality and gives invariance to small\n",
      "distortions.\n",
      "\n",
      "For info on NIST preprocessing routines, see M. D. Garris, J. L. Blue, G.\n",
      "T. Candela, D. L. Dimmick, J. Geist, P. J. Grother, S. A. Janet, and C.\n",
      "L. Wilson, NIST Form-Based Handprint Recognition System, NISTIR 5469,\n",
      "1994.\n",
      "\n",
      ".. topic:: References\n",
      "\n",
      "  - C. Kaynak (1995) Methods of Combining Multiple Classifiers and Their\n",
      "    Applications to Handwritten Digit Recognition, MSc Thesis, Institute of\n",
      "    Graduate Studies in Science and Engineering, Bogazici University.\n",
      "  - E. Alpaydin, C. Kaynak (1998) Cascading Classifiers, Kybernetika.\n",
      "  - Ken Tang and Ponnuthurai N. Suganthan and Xi Yao and A. Kai Qin.\n",
      "    Linear dimensionalityreduction using relevance weighted LDA. School of\n",
      "    Electrical and Electronic Engineering Nanyang Technological University.\n",
      "    2005.\n",
      "  - Claudio Gentile. A New Approximate Maximal Margin Classification\n",
      "    Algorithm. NIPS. 2000.\n",
      "\n"
     ]
    }
   ],
   "source": [
    "print(digitos.DESCR)"
   ]
  },
  {
   "cell_type": "code",
   "execution_count": 24,
   "id": "58952ef4",
   "metadata": {},
   "outputs": [
    {
     "data": {
      "text/plain": [
       "array([[[ 0.,  0.,  5., ...,  1.,  0.,  0.],\n",
       "        [ 0.,  0., 13., ..., 15.,  5.,  0.],\n",
       "        [ 0.,  3., 15., ..., 11.,  8.,  0.],\n",
       "        ...,\n",
       "        [ 0.,  4., 11., ..., 12.,  7.,  0.],\n",
       "        [ 0.,  2., 14., ..., 12.,  0.,  0.],\n",
       "        [ 0.,  0.,  6., ...,  0.,  0.,  0.]],\n",
       "\n",
       "       [[ 0.,  0.,  0., ...,  5.,  0.,  0.],\n",
       "        [ 0.,  0.,  0., ...,  9.,  0.,  0.],\n",
       "        [ 0.,  0.,  3., ...,  6.,  0.,  0.],\n",
       "        ...,\n",
       "        [ 0.,  0.,  1., ...,  6.,  0.,  0.],\n",
       "        [ 0.,  0.,  1., ...,  6.,  0.,  0.],\n",
       "        [ 0.,  0.,  0., ..., 10.,  0.,  0.]],\n",
       "\n",
       "       [[ 0.,  0.,  0., ..., 12.,  0.,  0.],\n",
       "        [ 0.,  0.,  3., ..., 14.,  0.,  0.],\n",
       "        [ 0.,  0.,  8., ..., 16.,  0.,  0.],\n",
       "        ...,\n",
       "        [ 0.,  9., 16., ...,  0.,  0.,  0.],\n",
       "        [ 0.,  3., 13., ..., 11.,  5.,  0.],\n",
       "        [ 0.,  0.,  0., ..., 16.,  9.,  0.]],\n",
       "\n",
       "       ...,\n",
       "\n",
       "       [[ 0.,  0.,  1., ...,  1.,  0.,  0.],\n",
       "        [ 0.,  0., 13., ...,  2.,  1.,  0.],\n",
       "        [ 0.,  0., 16., ..., 16.,  5.,  0.],\n",
       "        ...,\n",
       "        [ 0.,  0., 16., ..., 15.,  0.,  0.],\n",
       "        [ 0.,  0., 15., ..., 16.,  0.,  0.],\n",
       "        [ 0.,  0.,  2., ...,  6.,  0.,  0.]],\n",
       "\n",
       "       [[ 0.,  0.,  2., ...,  0.,  0.,  0.],\n",
       "        [ 0.,  0., 14., ..., 15.,  1.,  0.],\n",
       "        [ 0.,  4., 16., ..., 16.,  7.,  0.],\n",
       "        ...,\n",
       "        [ 0.,  0.,  0., ..., 16.,  2.,  0.],\n",
       "        [ 0.,  0.,  4., ..., 16.,  2.,  0.],\n",
       "        [ 0.,  0.,  5., ..., 12.,  0.,  0.]],\n",
       "\n",
       "       [[ 0.,  0., 10., ...,  1.,  0.,  0.],\n",
       "        [ 0.,  2., 16., ...,  1.,  0.,  0.],\n",
       "        [ 0.,  0., 15., ..., 15.,  0.,  0.],\n",
       "        ...,\n",
       "        [ 0.,  4., 16., ..., 16.,  6.,  0.],\n",
       "        [ 0.,  8., 16., ..., 16.,  8.,  0.],\n",
       "        [ 0.,  1.,  8., ..., 12.,  1.,  0.]]])"
      ]
     },
     "execution_count": 24,
     "metadata": {},
     "output_type": "execute_result"
    }
   ],
   "source": [
    "digitos.images"
   ]
  },
  {
   "cell_type": "code",
   "execution_count": 47,
   "id": "3e61d7a3",
   "metadata": {},
   "outputs": [],
   "source": [
    "#Visualizando a variável Target\n",
    "targest=digitos.target_names"
   ]
  },
  {
   "cell_type": "code",
   "execution_count": 8,
   "id": "fd3dd641",
   "metadata": {},
   "outputs": [],
   "source": [
    "N_samples=len(digitos.images)\n",
    "dados=digitos.images.reshape((N_samples,-1))\n",
    "classe=digitos.target"
   ]
  },
  {
   "cell_type": "code",
   "execution_count": 9,
   "id": "7aa459ba",
   "metadata": {},
   "outputs": [],
   "source": [
    "dados=pd.DataFrame(dados)\n",
    "dados['classe']=classe"
   ]
  },
  {
   "cell_type": "code",
   "execution_count": 10,
   "id": "7aadc080",
   "metadata": {},
   "outputs": [
    {
     "data": {
      "text/html": [
       "<div>\n",
       "<style scoped>\n",
       "    .dataframe tbody tr th:only-of-type {\n",
       "        vertical-align: middle;\n",
       "    }\n",
       "\n",
       "    .dataframe tbody tr th {\n",
       "        vertical-align: top;\n",
       "    }\n",
       "\n",
       "    .dataframe thead th {\n",
       "        text-align: right;\n",
       "    }\n",
       "</style>\n",
       "<table border=\"1\" class=\"dataframe\">\n",
       "  <thead>\n",
       "    <tr style=\"text-align: right;\">\n",
       "      <th></th>\n",
       "      <th>0</th>\n",
       "      <th>1</th>\n",
       "      <th>2</th>\n",
       "      <th>3</th>\n",
       "      <th>4</th>\n",
       "      <th>5</th>\n",
       "      <th>6</th>\n",
       "      <th>7</th>\n",
       "      <th>8</th>\n",
       "      <th>9</th>\n",
       "      <th>...</th>\n",
       "      <th>55</th>\n",
       "      <th>56</th>\n",
       "      <th>57</th>\n",
       "      <th>58</th>\n",
       "      <th>59</th>\n",
       "      <th>60</th>\n",
       "      <th>61</th>\n",
       "      <th>62</th>\n",
       "      <th>63</th>\n",
       "      <th>classe</th>\n",
       "    </tr>\n",
       "  </thead>\n",
       "  <tbody>\n",
       "    <tr>\n",
       "      <th>0</th>\n",
       "      <td>0.0</td>\n",
       "      <td>0.0</td>\n",
       "      <td>5.0</td>\n",
       "      <td>13.0</td>\n",
       "      <td>9.0</td>\n",
       "      <td>1.0</td>\n",
       "      <td>0.0</td>\n",
       "      <td>0.0</td>\n",
       "      <td>0.0</td>\n",
       "      <td>0.0</td>\n",
       "      <td>...</td>\n",
       "      <td>0.0</td>\n",
       "      <td>0.0</td>\n",
       "      <td>0.0</td>\n",
       "      <td>6.0</td>\n",
       "      <td>13.0</td>\n",
       "      <td>10.0</td>\n",
       "      <td>0.0</td>\n",
       "      <td>0.0</td>\n",
       "      <td>0.0</td>\n",
       "      <td>0</td>\n",
       "    </tr>\n",
       "    <tr>\n",
       "      <th>1</th>\n",
       "      <td>0.0</td>\n",
       "      <td>0.0</td>\n",
       "      <td>0.0</td>\n",
       "      <td>12.0</td>\n",
       "      <td>13.0</td>\n",
       "      <td>5.0</td>\n",
       "      <td>0.0</td>\n",
       "      <td>0.0</td>\n",
       "      <td>0.0</td>\n",
       "      <td>0.0</td>\n",
       "      <td>...</td>\n",
       "      <td>0.0</td>\n",
       "      <td>0.0</td>\n",
       "      <td>0.0</td>\n",
       "      <td>0.0</td>\n",
       "      <td>11.0</td>\n",
       "      <td>16.0</td>\n",
       "      <td>10.0</td>\n",
       "      <td>0.0</td>\n",
       "      <td>0.0</td>\n",
       "      <td>1</td>\n",
       "    </tr>\n",
       "    <tr>\n",
       "      <th>2</th>\n",
       "      <td>0.0</td>\n",
       "      <td>0.0</td>\n",
       "      <td>0.0</td>\n",
       "      <td>4.0</td>\n",
       "      <td>15.0</td>\n",
       "      <td>12.0</td>\n",
       "      <td>0.0</td>\n",
       "      <td>0.0</td>\n",
       "      <td>0.0</td>\n",
       "      <td>0.0</td>\n",
       "      <td>...</td>\n",
       "      <td>0.0</td>\n",
       "      <td>0.0</td>\n",
       "      <td>0.0</td>\n",
       "      <td>0.0</td>\n",
       "      <td>3.0</td>\n",
       "      <td>11.0</td>\n",
       "      <td>16.0</td>\n",
       "      <td>9.0</td>\n",
       "      <td>0.0</td>\n",
       "      <td>2</td>\n",
       "    </tr>\n",
       "    <tr>\n",
       "      <th>3</th>\n",
       "      <td>0.0</td>\n",
       "      <td>0.0</td>\n",
       "      <td>7.0</td>\n",
       "      <td>15.0</td>\n",
       "      <td>13.0</td>\n",
       "      <td>1.0</td>\n",
       "      <td>0.0</td>\n",
       "      <td>0.0</td>\n",
       "      <td>0.0</td>\n",
       "      <td>8.0</td>\n",
       "      <td>...</td>\n",
       "      <td>0.0</td>\n",
       "      <td>0.0</td>\n",
       "      <td>0.0</td>\n",
       "      <td>7.0</td>\n",
       "      <td>13.0</td>\n",
       "      <td>13.0</td>\n",
       "      <td>9.0</td>\n",
       "      <td>0.0</td>\n",
       "      <td>0.0</td>\n",
       "      <td>3</td>\n",
       "    </tr>\n",
       "    <tr>\n",
       "      <th>4</th>\n",
       "      <td>0.0</td>\n",
       "      <td>0.0</td>\n",
       "      <td>0.0</td>\n",
       "      <td>1.0</td>\n",
       "      <td>11.0</td>\n",
       "      <td>0.0</td>\n",
       "      <td>0.0</td>\n",
       "      <td>0.0</td>\n",
       "      <td>0.0</td>\n",
       "      <td>0.0</td>\n",
       "      <td>...</td>\n",
       "      <td>0.0</td>\n",
       "      <td>0.0</td>\n",
       "      <td>0.0</td>\n",
       "      <td>0.0</td>\n",
       "      <td>2.0</td>\n",
       "      <td>16.0</td>\n",
       "      <td>4.0</td>\n",
       "      <td>0.0</td>\n",
       "      <td>0.0</td>\n",
       "      <td>4</td>\n",
       "    </tr>\n",
       "  </tbody>\n",
       "</table>\n",
       "<p>5 rows × 65 columns</p>\n",
       "</div>"
      ],
      "text/plain": [
       "     0    1    2     3     4     5    6    7    8    9  ...   55   56   57  \\\n",
       "0  0.0  0.0  5.0  13.0   9.0   1.0  0.0  0.0  0.0  0.0  ...  0.0  0.0  0.0   \n",
       "1  0.0  0.0  0.0  12.0  13.0   5.0  0.0  0.0  0.0  0.0  ...  0.0  0.0  0.0   \n",
       "2  0.0  0.0  0.0   4.0  15.0  12.0  0.0  0.0  0.0  0.0  ...  0.0  0.0  0.0   \n",
       "3  0.0  0.0  7.0  15.0  13.0   1.0  0.0  0.0  0.0  8.0  ...  0.0  0.0  0.0   \n",
       "4  0.0  0.0  0.0   1.0  11.0   0.0  0.0  0.0  0.0  0.0  ...  0.0  0.0  0.0   \n",
       "\n",
       "    58    59    60    61   62   63  classe  \n",
       "0  6.0  13.0  10.0   0.0  0.0  0.0       0  \n",
       "1  0.0  11.0  16.0  10.0  0.0  0.0       1  \n",
       "2  0.0   3.0  11.0  16.0  9.0  0.0       2  \n",
       "3  7.0  13.0  13.0   9.0  0.0  0.0       3  \n",
       "4  0.0   2.0  16.0   4.0  0.0  0.0       4  \n",
       "\n",
       "[5 rows x 65 columns]"
      ]
     },
     "execution_count": 10,
     "metadata": {},
     "output_type": "execute_result"
    }
   ],
   "source": [
    "dados.head()"
   ]
  },
  {
   "cell_type": "code",
   "execution_count": 11,
   "id": "53a1e4e0",
   "metadata": {},
   "outputs": [],
   "source": [
    "from sklearn.model_selection import train_test_split\n",
    "x=dados.iloc[:,0:64].values\n",
    "y=dados.iloc[:,64]\n",
    "Xtreino,Xteste,Ytreino,Yteste= train_test_split(x,y,test_size=0.3)"
   ]
  },
  {
   "cell_type": "code",
   "execution_count": 50,
   "id": "868e3bfe",
   "metadata": {},
   "outputs": [
    {
     "data": {
      "text/plain": [
       "(1257, 64)"
      ]
     },
     "execution_count": 50,
     "metadata": {},
     "output_type": "execute_result"
    }
   ],
   "source": [
    "Xtreino.shape"
   ]
  },
  {
   "cell_type": "code",
   "execution_count": 51,
   "id": "9bb7df76",
   "metadata": {},
   "outputs": [
    {
     "data": {
      "text/plain": [
       "(540, 64)"
      ]
     },
     "execution_count": 51,
     "metadata": {},
     "output_type": "execute_result"
    }
   ],
   "source": [
    "Xteste.shape"
   ]
  },
  {
   "cell_type": "markdown",
   "id": "74d553a2",
   "metadata": {},
   "source": [
    "Normalizando os dados"
   ]
  },
  {
   "cell_type": "code",
   "execution_count": 12,
   "id": "13e433d7",
   "metadata": {},
   "outputs": [],
   "source": [
    "from sklearn.preprocessing import StandardScaler\n",
    "scaler=StandardScaler()\n",
    "scaler.fit(Xtreino)\n",
    "Xtreino=scaler.transform(Xtreino)\n",
    "Xteste=scaler.transform(Xteste)\n"
   ]
  },
  {
   "cell_type": "code",
   "execution_count": 44,
   "id": "6f77261d",
   "metadata": {},
   "outputs": [],
   "source": [
    "#SVD (Single Value Decomposition)\n",
    "#Redução de Dimensionalidade\n",
    "from sklearn.decomposition import TruncatedSVD\n",
    "svd=TruncatedSVD(n_components=3)\n",
    "svd.fit(Xtreino)\n",
    "XSVD=svd.transform(Xtreino)\n",
    "X_t_SVD=svd.transform(Xteste)"
   ]
  },
  {
   "cell_type": "code",
   "execution_count": 46,
   "id": "90777608",
   "metadata": {},
   "outputs": [
    {
     "data": {
      "text/plain": [
       "array([[-0.9982636 ,  3.30661367,  1.19304541],\n",
       "       [ 1.20088148, -1.31853118, -3.90462362],\n",
       "       [ 0.74419484, -4.79989891,  0.97325241],\n",
       "       ...,\n",
       "       [-1.26825528, -1.51288223, -2.87440547],\n",
       "       [ 0.13883025, -1.85796109, -2.21934914],\n",
       "       [ 1.48531368,  1.6562524 , -0.62961648]])"
      ]
     },
     "execution_count": 46,
     "metadata": {},
     "output_type": "execute_result"
    }
   ],
   "source": [
    "XSVD\n",
    "#X_t_SVD"
   ]
  },
  {
   "cell_type": "markdown",
   "id": "947f6cde",
   "metadata": {},
   "source": [
    "Treinando o Modelo"
   ]
  },
  {
   "cell_type": "code",
   "execution_count": 20,
   "id": "b1ffd7d8",
   "metadata": {},
   "outputs": [
    {
     "data": {
      "text/plain": [
       "KNeighborsClassifier(n_neighbors=3)"
      ]
     },
     "execution_count": 20,
     "metadata": {},
     "output_type": "execute_result"
    }
   ],
   "source": [
    "from sklearn.neighbors import KNeighborsClassifier\n",
    "knn=KNeighborsClassifier(n_neighbors=3)\n",
    "knn.fit(XSVD,Ytreino)"
   ]
  },
  {
   "cell_type": "code",
   "execution_count": 28,
   "id": "6be0f1e5",
   "metadata": {},
   "outputs": [
    {
     "data": {
      "text/plain": [
       "array([1, 6, 3, 0, 5, 2, 0, 3, 1, 4, 9, 7, 2, 5, 2, 1, 0, 7, 3, 9, 5, 1,\n",
       "       5, 2, 0, 6, 6, 2, 3, 3, 3, 3, 6, 1, 3, 2, 7, 6, 7, 0, 3, 1, 1, 7,\n",
       "       3, 6, 1, 5, 2, 4, 0, 0, 0, 6, 9, 1, 8, 1, 4, 3, 6, 5, 2, 1, 3, 1,\n",
       "       0, 4, 0, 7, 0, 6, 2, 6, 1, 1, 5, 8, 6, 1, 4, 2, 5, 6, 3, 4, 7, 2,\n",
       "       5, 1, 2, 0, 4, 8, 7, 9, 9, 3, 8, 4, 6, 2, 8, 9, 4, 0, 6, 1, 4, 2,\n",
       "       6, 1, 0, 1, 1, 1, 6, 0, 0, 7, 7, 7, 3, 9, 9, 0, 3, 3, 1, 1, 1, 0,\n",
       "       8, 2, 1, 7, 9, 1, 3, 0, 3, 7, 1, 6, 0, 9, 9, 9, 7, 2, 0, 2, 0, 6,\n",
       "       2, 6, 7, 8, 9, 5, 4, 1, 5, 9, 9, 8, 2, 9, 2, 0, 0, 7, 5, 6, 6, 5,\n",
       "       3, 1, 1, 1, 3, 2, 1, 0, 9, 7, 3, 4, 8, 4, 1, 4, 0, 3, 4, 1, 3, 5,\n",
       "       4, 0, 5, 4, 0, 0, 5, 8, 5, 9, 6, 2, 7, 4, 8, 4, 3, 8, 9, 1, 7, 6,\n",
       "       1, 0, 1, 0, 1, 7, 7, 3, 5, 2, 2, 8, 4, 0, 5, 2, 1, 2, 9, 2, 2, 6,\n",
       "       5, 5, 6, 4, 2, 1, 1, 1, 0, 3, 1, 2, 3, 0, 1, 8, 4, 3, 5, 6, 3, 3,\n",
       "       2, 4, 4, 0, 2, 2, 3, 4, 6, 9, 6, 4, 6, 3, 5, 1, 7, 3, 1, 8, 1, 1,\n",
       "       7, 9, 2, 9, 2, 1, 1, 0, 6, 0, 3, 7, 0, 6, 2, 4, 7, 6, 2, 1, 0, 6,\n",
       "       6, 6, 0, 2, 9, 4, 4, 1, 1, 2, 3, 2, 2, 1, 5, 7, 9, 2, 7, 6, 2, 5,\n",
       "       0, 0, 2, 3, 7, 0, 3, 1, 7, 1, 3, 1, 1, 9, 2, 1, 4, 3, 7, 6, 6, 0,\n",
       "       1, 8, 4, 4, 1, 5, 0, 2, 5, 5, 2, 2, 8, 0, 8, 3, 1, 2, 5, 0, 5, 5,\n",
       "       4, 3, 1, 7, 2, 2, 1, 2, 3, 4, 0, 3, 7, 6, 0, 0, 3, 8, 6, 4, 5, 4,\n",
       "       8, 5, 6, 2, 4, 2, 3, 6, 4, 7, 4, 5, 3, 4, 9, 5, 3, 1, 2, 2, 1, 2,\n",
       "       7, 4, 9, 7, 2, 7, 0, 3, 8, 2, 9, 7, 3, 0, 3, 5, 2, 9, 1, 3, 4, 1,\n",
       "       8, 3, 5, 0, 3, 4, 4, 6, 2, 2, 0, 6, 4, 5, 0, 1, 4, 1, 6, 7, 5, 6,\n",
       "       1, 6, 4, 2, 6, 1, 7, 6, 1, 3, 5, 4, 3, 6, 7, 1, 1, 3, 2, 2, 3, 1,\n",
       "       1, 2, 5, 9, 1, 6, 0, 6, 6, 0, 7, 6, 0, 5, 6, 0, 1, 1, 8, 1, 1, 3,\n",
       "       8, 5, 4, 0, 7, 4, 6, 0, 4, 2, 1, 1, 8, 7, 1, 4, 3, 0, 0, 0, 1, 0,\n",
       "       2, 2, 8, 8, 1, 6, 1, 8, 1, 6, 8, 4])"
      ]
     },
     "execution_count": 28,
     "metadata": {},
     "output_type": "execute_result"
    }
   ],
   "source": [
    "Yprev=knn.predict(X_t_SVD)\n",
    "Yprev"
   ]
  },
  {
   "cell_type": "code",
   "execution_count": 29,
   "id": "5f973fd0",
   "metadata": {},
   "outputs": [
    {
     "name": "stdout",
     "output_type": "stream",
     "text": [
      "              precision    recall  f1-score   support\n",
      "\n",
      "           0       0.62      0.73      0.67        55\n",
      "           1       0.47      0.74      0.58        57\n",
      "           2       0.48      0.61      0.54        54\n",
      "           3       0.43      0.46      0.45        56\n",
      "           4       0.91      0.86      0.88        56\n",
      "           5       0.28      0.21      0.24        56\n",
      "           6       0.84      0.82      0.83        60\n",
      "           7       0.67      0.63      0.65        46\n",
      "           8       0.17      0.11      0.13        46\n",
      "           9       0.39      0.22      0.28        54\n",
      "\n",
      "    accuracy                           0.55       540\n",
      "   macro avg       0.53      0.54      0.52       540\n",
      "weighted avg       0.53      0.55      0.53       540\n",
      "\n"
     ]
    }
   ],
   "source": [
    "from sklearn import metrics\n",
    "print(metrics.classification_report(Yteste,Yprev))"
   ]
  },
  {
   "cell_type": "code",
   "execution_count": 30,
   "id": "adee2808",
   "metadata": {},
   "outputs": [
    {
     "name": "stdout",
     "output_type": "stream",
     "text": [
      "[[40  3  0  0  2  0  9  0  1  0]\n",
      " [ 2 42  1  0  0  3  0  2  6  1]\n",
      " [ 0  5 33 10  0  0  0  1  1  4]\n",
      " [ 1  1 18 26  0  2  0  3  2  3]\n",
      " [ 6  0  0  1 48  1  0  0  0  0]\n",
      " [ 2 10  6  8  1 12  0  5  7  5]\n",
      " [10  0  0  0  1  0 49  0  0  0]\n",
      " [ 0  5  0  4  1  5  0 29  1  1]\n",
      " [ 3 13  5  4  0 11  0  0  5  5]\n",
      " [ 1 10  6  7  0  9  0  3  6 12]]\n"
     ]
    }
   ],
   "source": [
    "from sklearn.metrics import  confusion_matrix\n",
    "matriz_conf=confusion_matrix(Yteste,Yprev)\n",
    "print(matriz_conf)"
   ]
  },
  {
   "cell_type": "markdown",
   "id": "38225a0c",
   "metadata": {},
   "source": [
    "Utilizando Validação Cruzada"
   ]
  },
  {
   "cell_type": "code",
   "execution_count": 32,
   "id": "5636d0f6",
   "metadata": {},
   "outputs": [],
   "source": [
    "from sklearn.preprocessing import StandardScaler\n",
    "scaler=StandardScaler()\n",
    "scaler.fit(x)\n",
    "Xnorm=scaler.transform(x)\n"
   ]
  },
  {
   "cell_type": "code",
   "execution_count": 33,
   "id": "f26acc9a",
   "metadata": {},
   "outputs": [
    {
     "data": {
      "text/plain": [
       "array([0.93888889, 0.91944444, 0.95543175, 0.97214485, 0.93871866])"
      ]
     },
     "execution_count": 33,
     "metadata": {},
     "output_type": "execute_result"
    }
   ],
   "source": [
    "from sklearn.model_selection import cross_val_score\n",
    "scores_norm=cross_val_score(knn,Xnorm,y,cv=5)\n",
    "scores_norm"
   ]
  },
  {
   "cell_type": "code",
   "execution_count": 31,
   "id": "dac5f646",
   "metadata": {},
   "outputs": [
    {
     "data": {
      "text/plain": [
       "array([0.95555556, 0.95833333, 0.96657382, 0.98607242, 0.96657382])"
      ]
     },
     "execution_count": 31,
     "metadata": {},
     "output_type": "execute_result"
    }
   ],
   "source": [
    "from sklearn.model_selection import cross_val_score\n",
    "scores=cross_val_score(knn,x,y,cv=5)\n",
    "scores"
   ]
  },
  {
   "cell_type": "markdown",
   "id": "c2a951ca",
   "metadata": {},
   "source": [
    "Procurando o melhor valor para K"
   ]
  },
  {
   "cell_type": "code",
   "execution_count": 35,
   "id": "14708a93",
   "metadata": {},
   "outputs": [],
   "source": [
    "from sklearn.model_selection import GridSearchCV"
   ]
  },
  {
   "cell_type": "code",
   "execution_count": 36,
   "id": "563e8d78",
   "metadata": {},
   "outputs": [],
   "source": [
    "k_lista=list(range(1,31))"
   ]
  },
  {
   "cell_type": "code",
   "execution_count": 38,
   "id": "a1a15010",
   "metadata": {},
   "outputs": [],
   "source": [
    "k_valores=dict(n_neighbors=k_lista)\n"
   ]
  },
  {
   "cell_type": "code",
   "execution_count": 39,
   "id": "7ebe4ac3",
   "metadata": {},
   "outputs": [],
   "source": [
    "grid=GridSearchCV(knn,k_valores,cv=5, scoring='accuracy')\n",
    "grid.fit(x,y)"
   ]
  },
  {
   "cell_type": "code",
   "execution_count": null,
   "id": "2cbb835c",
   "metadata": {},
   "outputs": [],
   "source": []
  },
  {
   "cell_type": "code",
   "execution_count": 40,
   "id": "0f847741",
   "metadata": {},
   "outputs": [
    {
     "data": {
      "text/plain": [
       "GridSearchCV(cv=5, estimator=KNeighborsClassifier(n_neighbors=3),\n",
       "             param_grid={'n_neighbors': [1, 2, 3, 4, 5, 6, 7, 8, 9, 10, 11, 12,\n",
       "                                         13, 14, 15, 16, 17, 18, 19, 20, 21, 22,\n",
       "                                         23, 24, 25, 26, 27, 28, 29, 30]},\n",
       "             scoring='accuracy')"
      ]
     },
     "execution_count": 40,
     "metadata": {},
     "output_type": "execute_result"
    }
   ],
   "source": [
    "grid.fit(Xnorm,y)"
   ]
  },
  {
   "cell_type": "code",
   "execution_count": 41,
   "id": "725cd0ee",
   "metadata": {},
   "outputs": [
    {
     "data": {
      "text/plain": [
       "{'mean_fit_time': array([0.00139961, 0.        , 0.00361667, 0.00040421, 0.        ,\n",
       "        0.00321002, 0.00013909, 0.00260878, 0.00321293, 0.00523105,\n",
       "        0.0020103 , 0.        , 0.00521965, 0.00040526, 0.00040531,\n",
       "        0.00040598, 0.00201154, 0.00241971, 0.00242138, 0.00161281,\n",
       "        0.00160584, 0.00080957, 0.00240612, 0.00400271, 0.00116649,\n",
       "        0.00219436, 0.00179605, 0.00159645, 0.        , 0.0064261 ]),\n",
       " 'std_fit_time': array([0.001742  , 0.        , 0.00367792, 0.00080843, 0.        ,\n",
       "        0.00393146, 0.00027819, 0.0029487 , 0.00393503, 0.0035036 ,\n",
       "        0.00310722, 0.        , 0.00432447, 0.00081053, 0.00081062,\n",
       "        0.00081196, 0.00311147, 0.002945  , 0.00294644, 0.00322561,\n",
       "        0.00321169, 0.00099152, 0.00294174, 0.00305131, 0.00117008,\n",
       "        0.0003989 , 0.00039914, 0.00079823, 0.        , 0.00321305]),\n",
       " 'mean_score_time': array([0.03671851, 0.03113079, 0.02657518, 0.03379879, 0.04031749,\n",
       "        0.03716121, 0.03425198, 0.0378118 , 0.03706422, 0.03503489,\n",
       "        0.03259144, 0.03988047, 0.03710074, 0.03581257, 0.03539209,\n",
       "        0.0443882 , 0.03266764, 0.03746767, 0.03823209, 0.03659949,\n",
       "        0.03871746, 0.03422189, 0.03819718, 0.0405262 , 0.04109874,\n",
       "        0.0453053 , 0.04276829, 0.03735271, 0.03374991, 0.03466086]),\n",
       " 'std_score_time': array([0.00720956, 0.00558525, 0.00370026, 0.0044598 , 0.00908777,\n",
       "        0.00405451, 0.0076383 , 0.00744878, 0.00747788, 0.00438253,\n",
       "        0.00388109, 0.00641549, 0.00859123, 0.004654  , 0.00431055,\n",
       "        0.00811785, 0.00484797, 0.00276254, 0.00752039, 0.00448432,\n",
       "        0.00719031, 0.00496684, 0.00779965, 0.00642042, 0.00511673,\n",
       "        0.00340534, 0.00341025, 0.00594572, 0.00833317, 0.00393749]),\n",
       " 'param_n_neighbors': masked_array(data=[1, 2, 3, 4, 5, 6, 7, 8, 9, 10, 11, 12, 13, 14, 15, 16,\n",
       "                    17, 18, 19, 20, 21, 22, 23, 24, 25, 26, 27, 28, 29, 30],\n",
       "              mask=[False, False, False, False, False, False, False, False,\n",
       "                    False, False, False, False, False, False, False, False,\n",
       "                    False, False, False, False, False, False, False, False,\n",
       "                    False, False, False, False, False, False],\n",
       "        fill_value='?',\n",
       "             dtype=object),\n",
       " 'params': [{'n_neighbors': 1},\n",
       "  {'n_neighbors': 2},\n",
       "  {'n_neighbors': 3},\n",
       "  {'n_neighbors': 4},\n",
       "  {'n_neighbors': 5},\n",
       "  {'n_neighbors': 6},\n",
       "  {'n_neighbors': 7},\n",
       "  {'n_neighbors': 8},\n",
       "  {'n_neighbors': 9},\n",
       "  {'n_neighbors': 10},\n",
       "  {'n_neighbors': 11},\n",
       "  {'n_neighbors': 12},\n",
       "  {'n_neighbors': 13},\n",
       "  {'n_neighbors': 14},\n",
       "  {'n_neighbors': 15},\n",
       "  {'n_neighbors': 16},\n",
       "  {'n_neighbors': 17},\n",
       "  {'n_neighbors': 18},\n",
       "  {'n_neighbors': 19},\n",
       "  {'n_neighbors': 20},\n",
       "  {'n_neighbors': 21},\n",
       "  {'n_neighbors': 22},\n",
       "  {'n_neighbors': 23},\n",
       "  {'n_neighbors': 24},\n",
       "  {'n_neighbors': 25},\n",
       "  {'n_neighbors': 26},\n",
       "  {'n_neighbors': 27},\n",
       "  {'n_neighbors': 28},\n",
       "  {'n_neighbors': 29},\n",
       "  {'n_neighbors': 30}],\n",
       " 'split0_test_score': array([0.93888889, 0.92777778, 0.93888889, 0.93055556, 0.92777778,\n",
       "        0.92777778, 0.93055556, 0.90833333, 0.92222222, 0.90833333,\n",
       "        0.91666667, 0.91388889, 0.91388889, 0.91111111, 0.90277778,\n",
       "        0.90555556, 0.91111111, 0.91111111, 0.90555556, 0.91111111,\n",
       "        0.90833333, 0.90277778, 0.90277778, 0.90555556, 0.90555556,\n",
       "        0.90555556, 0.90555556, 0.90555556, 0.90833333, 0.90833333]),\n",
       " 'split1_test_score': array([0.91944444, 0.93611111, 0.91944444, 0.93611111, 0.93333333,\n",
       "        0.93611111, 0.93055556, 0.93055556, 0.92777778, 0.925     ,\n",
       "        0.92222222, 0.91111111, 0.92222222, 0.925     , 0.91944444,\n",
       "        0.91666667, 0.92222222, 0.91944444, 0.91666667, 0.91388889,\n",
       "        0.91944444, 0.91111111, 0.91111111, 0.90555556, 0.9       ,\n",
       "        0.90277778, 0.89444444, 0.89722222, 0.88611111, 0.88611111]),\n",
       " 'split2_test_score': array([0.95264624, 0.93871866, 0.95543175, 0.95821727, 0.94986072,\n",
       "        0.96100279, 0.9637883 , 0.95821727, 0.94986072, 0.95543175,\n",
       "        0.95543175, 0.95264624, 0.94428969, 0.94150418, 0.93593315,\n",
       "        0.94707521, 0.93871866, 0.93871866, 0.91643454, 0.91643454,\n",
       "        0.91643454, 0.91643454, 0.91643454, 0.91086351, 0.90807799,\n",
       "        0.91643454, 0.91086351, 0.91086351, 0.91364903, 0.91643454]),\n",
       " 'split3_test_score': array([0.96100279, 0.95264624, 0.97214485, 0.96935933, 0.96935933,\n",
       "        0.96100279, 0.96100279, 0.96100279, 0.95821727, 0.95543175,\n",
       "        0.95821727, 0.96100279, 0.95821727, 0.95821727, 0.96100279,\n",
       "        0.95821727, 0.95543175, 0.95821727, 0.95264624, 0.94986072,\n",
       "        0.95264624, 0.94707521, 0.94707521, 0.94707521, 0.95264624,\n",
       "        0.94150418, 0.95264624, 0.93871866, 0.94428969, 0.94150418]),\n",
       " 'split4_test_score': array([0.94428969, 0.93036212, 0.93871866, 0.93036212, 0.93871866,\n",
       "        0.93871866, 0.93593315, 0.93314763, 0.94150418, 0.94150418,\n",
       "        0.93871866, 0.93871866, 0.93871866, 0.93593315, 0.93871866,\n",
       "        0.93871866, 0.94150418, 0.93871866, 0.93314763, 0.93036212,\n",
       "        0.93314763, 0.93314763, 0.93314763, 0.93314763, 0.93314763,\n",
       "        0.93314763, 0.93871866, 0.93871866, 0.93593315, 0.93593315]),\n",
       " 'mean_test_score': array([0.94325441, 0.93712318, 0.94492572, 0.94492108, 0.94380997,\n",
       "        0.94492262, 0.94436707, 0.93825132, 0.93991643, 0.9371402 ,\n",
       "        0.93825132, 0.93547354, 0.93546735, 0.93435314, 0.93157536,\n",
       "        0.93324667, 0.93379759, 0.93324203, 0.92489013, 0.92433148,\n",
       "        0.92600124, 0.92210925, 0.92210925, 0.92043949, 0.91988548,\n",
       "        0.91988394, 0.92044568, 0.91821572, 0.91766326, 0.91766326]),\n",
       " 'std_test_score': array([0.01407306, 0.00869004, 0.01775119, 0.01593715, 0.01471118,\n",
       "        0.01361779, 0.01487668, 0.01947628, 0.01339226, 0.01825062,\n",
       "        0.01683362, 0.02008283, 0.01579257, 0.01581647, 0.01955735,\n",
       "        0.01942368, 0.01549394, 0.01651606, 0.01644102, 0.01438262,\n",
       "        0.01554153, 0.01595   , 0.01595   , 0.01676735, 0.01994667,\n",
       "        0.01518672, 0.02172729, 0.01729626, 0.02069519, 0.01993125]),\n",
       " 'rank_test_score': array([ 6, 11,  1,  3,  5,  2,  4,  8,  7, 10,  8, 12, 13, 14, 18, 16, 15,\n",
       "        17, 20, 21, 19, 22, 22, 25, 26, 27, 24, 28, 29, 29])}"
      ]
     },
     "execution_count": 41,
     "metadata": {},
     "output_type": "execute_result"
    }
   ],
   "source": [
    "grid.cv_results_"
   ]
  },
  {
   "cell_type": "code",
   "execution_count": null,
   "id": "83132ad6",
   "metadata": {},
   "outputs": [],
   "source": []
  },
  {
   "cell_type": "code",
   "execution_count": 42,
   "id": "5edaa3b6",
   "metadata": {},
   "outputs": [
    {
     "data": {
      "image/png": "[encoded data removed]",
      "text/plain": [
       "<Figure size 720x432 with 1 Axes>"
      ]
     },
     "metadata": {
      "needs_background": "light"
     },
     "output_type": "display_data"
    }
   ],
   "source": [
    "scores=[]\n",
    "results = grid.cv_results_\n",
    "for mean in results['mean_test_score']:\n",
    "    scores.append(mean)\n",
    "\n",
    "\n",
    "plt.figure(figsize=(10,6))\n",
    "plt.plot(k_lista,scores,color='red',linestyle='dashed',marker='o')\n",
    "plt.xlabel('k')\n",
    "plt.ylabel('accuracy')\n",
    "plt.show()"
   ]
  },
  {
   "cell_type": "code",
   "execution_count": 43,
   "id": "d005355c",
   "metadata": {},
   "outputs": [
    {
     "name": "stdout",
     "output_type": "stream",
     "text": [
      "Melhor valor de k = {'n_neighbors': 3} com o valor 0.9449257195914577 de acurácia\n"
     ]
    }
   ],
   "source": [
    "print(\"Melhor valor de k = {} com o valor {} de acurácia\".format(grid.best_params_,grid.best_score_))"
   ]
  },
  {
   "cell_type": "code",
   "execution_count": null,
   "id": "97804d1b",
   "metadata": {},
   "outputs": [],
   "source": []
  }
 ],
 "metadata": {
  "kernelspec": {
   "display_name": "Python 3",
   "language": "python",
   "name": "python3"
  },
  "language_info": {
   "codemirror_mode": {
    "name": "ipython",
    "version": 3
   },
   "file_extension": ".py",
   "mimetype": "text/x-python",
   "name": "python",
   "nbconvert_exporter": "python",
   "pygments_lexer": "ipython3",
   "version": "3.8.8"
  }
 },
 "nbformat": 4,
 "nbformat_minor": 5
}
