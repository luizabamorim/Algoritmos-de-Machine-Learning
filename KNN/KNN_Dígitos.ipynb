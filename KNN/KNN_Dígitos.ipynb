{
 "cells": [
  {
   "cell_type": "code",
   "execution_count": 4,
   "id": "6f559837",
   "metadata": {},
   "outputs": [],
   "source": [
    "import numpy as np\n",
    "import pandas as pd\n",
    "from sklearn import datasets, svm,metrics\n",
    "import matplotlib.pyplot as plt"
   ]
  },
  {
   "cell_type": "markdown",
   "id": "91afff3a",
   "metadata": {},
   "source": [
    "Base de Dados do Sklearn"
   ]
  },
  {
   "cell_type": "code",
   "execution_count": 5,
   "id": "4d5afbec",
   "metadata": {},
   "outputs": [],
   "source": [
    "digitos=datasets.load_digits()"
   ]
  },
  {
   "cell_type": "code",
   "execution_count": 6,
   "id": "c29fd3da",
   "metadata": {},
   "outputs": [
    {
     "name": "stdout",
     "output_type": "stream",
     "text": [
      ".. _digits_dataset:\n",
      "\n",
      "Optical recognition of handwritten digits dataset\n",
      "--------------------------------------------------\n",
      "\n",
      "**Data Set Characteristics:**\n",
      "\n",
      "    :Number of Instances: 1797\n",
      "    :Number of Attributes: 64\n",
      "    :Attribute Information: 8x8 image of integer pixels in the range 0..16.\n",
      "    :Missing Attribute Values: None\n",
      "    :Creator: E. Alpaydin (alpaydin '@' boun.edu.tr)\n",
      "    :Date: July; 1998\n",
      "\n",
      "This is a copy of the test set of the UCI ML hand-written digits datasets\n",
      "https://archive.ics.uci.edu/ml/datasets/Optical+Recognition+of+Handwritten+Digits\n",
      "\n",
      "The data set contains images of hand-written digits: 10 classes where\n",
      "each class refers to a digit.\n",
      "\n",
      "Preprocessing programs made available by NIST were used to extract\n",
      "normalized bitmaps of handwritten digits from a preprinted form. From a\n",
      "total of 43 people, 30 contributed to the training set and different 13\n",
      "to the test set. 32x32 bitmaps are divided into nonoverlapping blocks of\n",
      "4x4 and the number of on pixels are counted in each block. This generates\n",
      "an input matrix of 8x8 where each element is an integer in the range\n",
      "0..16. This reduces dimensionality and gives invariance to small\n",
      "distortions.\n",
      "\n",
      "For info on NIST preprocessing routines, see M. D. Garris, J. L. Blue, G.\n",
      "T. Candela, D. L. Dimmick, J. Geist, P. J. Grother, S. A. Janet, and C.\n",
      "L. Wilson, NIST Form-Based Handprint Recognition System, NISTIR 5469,\n",
      "1994.\n",
      "\n",
      ".. topic:: References\n",
      "\n",
      "  - C. Kaynak (1995) Methods of Combining Multiple Classifiers and Their\n",
      "    Applications to Handwritten Digit Recognition, MSc Thesis, Institute of\n",
      "    Graduate Studies in Science and Engineering, Bogazici University.\n",
      "  - E. Alpaydin, C. Kaynak (1998) Cascading Classifiers, Kybernetika.\n",
      "  - Ken Tang and Ponnuthurai N. Suganthan and Xi Yao and A. Kai Qin.\n",
      "    Linear dimensionalityreduction using relevance weighted LDA. School of\n",
      "    Electrical and Electronic Engineering Nanyang Technological University.\n",
      "    2005.\n",
      "  - Claudio Gentile. A New Approximate Maximal Margin Classification\n",
      "    Algorithm. NIPS. 2000.\n",
      "\n"
     ]
    }
   ],
   "source": [
    "print(digitos.DESCR)"
   ]
  },
  {
   "cell_type": "code",
   "execution_count": 24,
   "id": "58952ef4",
   "metadata": {},
   "outputs": [
    {
     "data": {
      "text/plain": [
       "array([[[ 0.,  0.,  5., ...,  1.,  0.,  0.],\n",
       "        [ 0.,  0., 13., ..., 15.,  5.,  0.],\n",
       "        [ 0.,  3., 15., ..., 11.,  8.,  0.],\n",
       "        ...,\n",
       "        [ 0.,  4., 11., ..., 12.,  7.,  0.],\n",
       "        [ 0.,  2., 14., ..., 12.,  0.,  0.],\n",
       "        [ 0.,  0.,  6., ...,  0.,  0.,  0.]],\n",
       "\n",
       "       [[ 0.,  0.,  0., ...,  5.,  0.,  0.],\n",
       "        [ 0.,  0.,  0., ...,  9.,  0.,  0.],\n",
       "        [ 0.,  0.,  3., ...,  6.,  0.,  0.],\n",
       "        ...,\n",
       "        [ 0.,  0.,  1., ...,  6.,  0.,  0.],\n",
       "        [ 0.,  0.,  1., ...,  6.,  0.,  0.],\n",
       "        [ 0.,  0.,  0., ..., 10.,  0.,  0.]],\n",
       "\n",
       "       [[ 0.,  0.,  0., ..., 12.,  0.,  0.],\n",
       "        [ 0.,  0.,  3., ..., 14.,  0.,  0.],\n",
       "        [ 0.,  0.,  8., ..., 16.,  0.,  0.],\n",
       "        ...,\n",
       "        [ 0.,  9., 16., ...,  0.,  0.,  0.],\n",
       "        [ 0.,  3., 13., ..., 11.,  5.,  0.],\n",
       "        [ 0.,  0.,  0., ..., 16.,  9.,  0.]],\n",
       "\n",
       "       ...,\n",
       "\n",
       "       [[ 0.,  0.,  1., ...,  1.,  0.,  0.],\n",
       "        [ 0.,  0., 13., ...,  2.,  1.,  0.],\n",
       "        [ 0.,  0., 16., ..., 16.,  5.,  0.],\n",
       "        ...,\n",
       "        [ 0.,  0., 16., ..., 15.,  0.,  0.],\n",
       "        [ 0.,  0., 15., ..., 16.,  0.,  0.],\n",
       "        [ 0.,  0.,  2., ...,  6.,  0.,  0.]],\n",
       "\n",
       "       [[ 0.,  0.,  2., ...,  0.,  0.,  0.],\n",
       "        [ 0.,  0., 14., ..., 15.,  1.,  0.],\n",
       "        [ 0.,  4., 16., ..., 16.,  7.,  0.],\n",
       "        ...,\n",
       "        [ 0.,  0.,  0., ..., 16.,  2.,  0.],\n",
       "        [ 0.,  0.,  4., ..., 16.,  2.,  0.],\n",
       "        [ 0.,  0.,  5., ..., 12.,  0.,  0.]],\n",
       "\n",
       "       [[ 0.,  0., 10., ...,  1.,  0.,  0.],\n",
       "        [ 0.,  2., 16., ...,  1.,  0.,  0.],\n",
       "        [ 0.,  0., 15., ..., 15.,  0.,  0.],\n",
       "        ...,\n",
       "        [ 0.,  4., 16., ..., 16.,  6.,  0.],\n",
       "        [ 0.,  8., 16., ..., 16.,  8.,  0.],\n",
       "        [ 0.,  1.,  8., ..., 12.,  1.,  0.]]])"
      ]
     },
     "execution_count": 24,
     "metadata": {},
     "output_type": "execute_result"
    }
   ],
   "source": [
    "digitos.images"
   ]
  },
  {
   "cell_type": "code",
   "execution_count": 23,
   "id": "3e61d7a3",
   "metadata": {},
   "outputs": [
    {
     "data": {
      "text/plain": [
       "array([0, 1, 2, 3, 4, 5, 6, 7, 8, 9])"
      ]
     },
     "execution_count": 23,
     "metadata": {},
     "output_type": "execute_result"
    }
   ],
   "source": [
    "#Visualizando a variável Target\n",
    "digitos.target_names"
   ]
  },
  {
   "cell_type": "code",
   "execution_count": 8,
   "id": "fd3dd641",
   "metadata": {},
   "outputs": [],
   "source": [
    "N_samples=len(digitos.images)\n",
    "dados=digitos.images.reshape((N_samples,-1))\n",
    "classe=digitos.target"
   ]
  },
  {
   "cell_type": "code",
   "execution_count": 9,
   "id": "7aa459ba",
   "metadata": {},
   "outputs": [],
   "source": [
    "dados=pd.DataFrame(dados)\n",
    "dados['classe']=classe"
   ]
  },
  {
   "cell_type": "code",
   "execution_count": 10,
   "id": "7aadc080",
   "metadata": {},
   "outputs": [
    {
     "data": {
      "text/html": [
       "<div>\n",
       "<style scoped>\n",
       "    .dataframe tbody tr th:only-of-type {\n",
       "        vertical-align: middle;\n",
       "    }\n",
       "\n",
       "    .dataframe tbody tr th {\n",
       "        vertical-align: top;\n",
       "    }\n",
       "\n",
       "    .dataframe thead th {\n",
       "        text-align: right;\n",
       "    }\n",
       "</style>\n",
       "<table border=\"1\" class=\"dataframe\">\n",
       "  <thead>\n",
       "    <tr style=\"text-align: right;\">\n",
       "      <th></th>\n",
       "      <th>0</th>\n",
       "      <th>1</th>\n",
       "      <th>2</th>\n",
       "      <th>3</th>\n",
       "      <th>4</th>\n",
       "      <th>5</th>\n",
       "      <th>6</th>\n",
       "      <th>7</th>\n",
       "      <th>8</th>\n",
       "      <th>9</th>\n",
       "      <th>...</th>\n",
       "      <th>55</th>\n",
       "      <th>56</th>\n",
       "      <th>57</th>\n",
       "      <th>58</th>\n",
       "      <th>59</th>\n",
       "      <th>60</th>\n",
       "      <th>61</th>\n",
       "      <th>62</th>\n",
       "      <th>63</th>\n",
       "      <th>classe</th>\n",
       "    </tr>\n",
       "  </thead>\n",
       "  <tbody>\n",
       "    <tr>\n",
       "      <th>0</th>\n",
       "      <td>0.0</td>\n",
       "      <td>0.0</td>\n",
       "      <td>5.0</td>\n",
       "      <td>13.0</td>\n",
       "      <td>9.0</td>\n",
       "      <td>1.0</td>\n",
       "      <td>0.0</td>\n",
       "      <td>0.0</td>\n",
       "      <td>0.0</td>\n",
       "      <td>0.0</td>\n",
       "      <td>...</td>\n",
       "      <td>0.0</td>\n",
       "      <td>0.0</td>\n",
       "      <td>0.0</td>\n",
       "      <td>6.0</td>\n",
       "      <td>13.0</td>\n",
       "      <td>10.0</td>\n",
       "      <td>0.0</td>\n",
       "      <td>0.0</td>\n",
       "      <td>0.0</td>\n",
       "      <td>0</td>\n",
       "    </tr>\n",
       "    <tr>\n",
       "      <th>1</th>\n",
       "      <td>0.0</td>\n",
       "      <td>0.0</td>\n",
       "      <td>0.0</td>\n",
       "      <td>12.0</td>\n",
       "      <td>13.0</td>\n",
       "      <td>5.0</td>\n",
       "      <td>0.0</td>\n",
       "      <td>0.0</td>\n",
       "      <td>0.0</td>\n",
       "      <td>0.0</td>\n",
       "      <td>...</td>\n",
       "      <td>0.0</td>\n",
       "      <td>0.0</td>\n",
       "      <td>0.0</td>\n",
       "      <td>0.0</td>\n",
       "      <td>11.0</td>\n",
       "      <td>16.0</td>\n",
       "      <td>10.0</td>\n",
       "      <td>0.0</td>\n",
       "      <td>0.0</td>\n",
       "      <td>1</td>\n",
       "    </tr>\n",
       "    <tr>\n",
       "      <th>2</th>\n",
       "      <td>0.0</td>\n",
       "      <td>0.0</td>\n",
       "      <td>0.0</td>\n",
       "      <td>4.0</td>\n",
       "      <td>15.0</td>\n",
       "      <td>12.0</td>\n",
       "      <td>0.0</td>\n",
       "      <td>0.0</td>\n",
       "      <td>0.0</td>\n",
       "      <td>0.0</td>\n",
       "      <td>...</td>\n",
       "      <td>0.0</td>\n",
       "      <td>0.0</td>\n",
       "      <td>0.0</td>\n",
       "      <td>0.0</td>\n",
       "      <td>3.0</td>\n",
       "      <td>11.0</td>\n",
       "      <td>16.0</td>\n",
       "      <td>9.0</td>\n",
       "      <td>0.0</td>\n",
       "      <td>2</td>\n",
       "    </tr>\n",
       "    <tr>\n",
       "      <th>3</th>\n",
       "      <td>0.0</td>\n",
       "      <td>0.0</td>\n",
       "      <td>7.0</td>\n",
       "      <td>15.0</td>\n",
       "      <td>13.0</td>\n",
       "      <td>1.0</td>\n",
       "      <td>0.0</td>\n",
       "      <td>0.0</td>\n",
       "      <td>0.0</td>\n",
       "      <td>8.0</td>\n",
       "      <td>...</td>\n",
       "      <td>0.0</td>\n",
       "      <td>0.0</td>\n",
       "      <td>0.0</td>\n",
       "      <td>7.0</td>\n",
       "      <td>13.0</td>\n",
       "      <td>13.0</td>\n",
       "      <td>9.0</td>\n",
       "      <td>0.0</td>\n",
       "      <td>0.0</td>\n",
       "      <td>3</td>\n",
       "    </tr>\n",
       "    <tr>\n",
       "      <th>4</th>\n",
       "      <td>0.0</td>\n",
       "      <td>0.0</td>\n",
       "      <td>0.0</td>\n",
       "      <td>1.0</td>\n",
       "      <td>11.0</td>\n",
       "      <td>0.0</td>\n",
       "      <td>0.0</td>\n",
       "      <td>0.0</td>\n",
       "      <td>0.0</td>\n",
       "      <td>0.0</td>\n",
       "      <td>...</td>\n",
       "      <td>0.0</td>\n",
       "      <td>0.0</td>\n",
       "      <td>0.0</td>\n",
       "      <td>0.0</td>\n",
       "      <td>2.0</td>\n",
       "      <td>16.0</td>\n",
       "      <td>4.0</td>\n",
       "      <td>0.0</td>\n",
       "      <td>0.0</td>\n",
       "      <td>4</td>\n",
       "    </tr>\n",
       "  </tbody>\n",
       "</table>\n",
       "<p>5 rows × 65 columns</p>\n",
       "</div>"
      ],
      "text/plain": [
       "     0    1    2     3     4     5    6    7    8    9  ...   55   56   57  \\\n",
       "0  0.0  0.0  5.0  13.0   9.0   1.0  0.0  0.0  0.0  0.0  ...  0.0  0.0  0.0   \n",
       "1  0.0  0.0  0.0  12.0  13.0   5.0  0.0  0.0  0.0  0.0  ...  0.0  0.0  0.0   \n",
       "2  0.0  0.0  0.0   4.0  15.0  12.0  0.0  0.0  0.0  0.0  ...  0.0  0.0  0.0   \n",
       "3  0.0  0.0  7.0  15.0  13.0   1.0  0.0  0.0  0.0  8.0  ...  0.0  0.0  0.0   \n",
       "4  0.0  0.0  0.0   1.0  11.0   0.0  0.0  0.0  0.0  0.0  ...  0.0  0.0  0.0   \n",
       "\n",
       "    58    59    60    61   62   63  classe  \n",
       "0  6.0  13.0  10.0   0.0  0.0  0.0       0  \n",
       "1  0.0  11.0  16.0  10.0  0.0  0.0       1  \n",
       "2  0.0   3.0  11.0  16.0  9.0  0.0       2  \n",
       "3  7.0  13.0  13.0   9.0  0.0  0.0       3  \n",
       "4  0.0   2.0  16.0   4.0  0.0  0.0       4  \n",
       "\n",
       "[5 rows x 65 columns]"
      ]
     },
     "execution_count": 10,
     "metadata": {},
     "output_type": "execute_result"
    }
   ],
   "source": [
    "dados.head()"
   ]
  },
  {
   "cell_type": "code",
   "execution_count": 11,
   "id": "53a1e4e0",
   "metadata": {},
   "outputs": [],
   "source": [
    "from sklearn.model_selection import train_test_split\n",
    "x=dados.iloc[:,0:64].values\n",
    "y=dados.iloc[:,64]\n",
    "Xtreino,Xteste,Ytreino,Yteste= train_test_split(x,y,test_size=0.3)"
   ]
  },
  {
   "cell_type": "code",
   "execution_count": 50,
   "id": "868e3bfe",
   "metadata": {},
   "outputs": [
    {
     "data": {
      "text/plain": [
       "(1257, 64)"
      ]
     },
     "execution_count": 50,
     "metadata": {},
     "output_type": "execute_result"
    }
   ],
   "source": [
    "Xtreino.shape"
   ]
  },
  {
   "cell_type": "code",
   "execution_count": 51,
   "id": "9bb7df76",
   "metadata": {},
   "outputs": [
    {
     "data": {
      "text/plain": [
       "(540, 64)"
      ]
     },
     "execution_count": 51,
     "metadata": {},
     "output_type": "execute_result"
    }
   ],
   "source": [
    "Xteste.shape"
   ]
  },
  {
   "cell_type": "markdown",
   "id": "74d553a2",
   "metadata": {},
   "source": [
    "Normalizando os dados"
   ]
  },
  {
   "cell_type": "code",
   "execution_count": 12,
   "id": "13e433d7",
   "metadata": {},
   "outputs": [],
   "source": [
    "from sklearn.preprocessing import StandardScaler\n",
    "scaler=StandardScaler()\n",
    "scaler.fit(Xtreino)\n",
    "Xtreino=scaler.transform(Xtreino)\n",
    "Xteste=scaler.transform(Xteste)\n"
   ]
  },
  {
   "cell_type": "code",
   "execution_count": 25,
   "id": "14f7bae6",
   "metadata": {},
   "outputs": [],
   "source": [
    "#SVD (Single Value Decomposition)\n",
    "#Redução de Dimensionalidade\n",
    "from sklearn.decomposition import TruncatedSVD\n",
    "svd=TruncatedSVD(n_components=2)\n",
    "svd.fit(Xtreino)\n",
    "XSVD=svd.transform(Xtreino)\n",
    "X_t_SVD=svd.transform(Xteste)"
   ]
  },
  {
   "cell_type": "code",
   "execution_count": 26,
   "id": "30a1a1e5",
   "metadata": {},
   "outputs": [
    {
     "data": {
      "text/plain": [
       "array([[ 0.61667196,  1.84997814],\n",
       "       [ 1.44085307, -4.3948887 ],\n",
       "       [-3.74237993, -0.00958542],\n",
       "       ...,\n",
       "       [ 1.72469783, -4.71572668],\n",
       "       [ 0.13485491,  0.55910733],\n",
       "       [ 6.66044127, -1.25876408]])"
      ]
     },
     "execution_count": 26,
     "metadata": {},
     "output_type": "execute_result"
    }
   ],
   "source": [
    "XSVD\n",
    "X_t_SVD"
   ]
  },
  {
   "cell_type": "markdown",
   "id": "947f6cde",
   "metadata": {},
   "source": [
    "Treinando o Modelo"
   ]
  },
  {
   "cell_type": "code",
   "execution_count": 20,
   "id": "b1ffd7d8",
   "metadata": {},
   "outputs": [
    {
     "data": {
      "text/plain": [
       "KNeighborsClassifier(n_neighbors=3)"
      ]
     },
     "execution_count": 20,
     "metadata": {},
     "output_type": "execute_result"
    }
   ],
   "source": [
    "from sklearn.neighbors import KNeighborsClassifier\n",
    "knn=KNeighborsClassifier(n_neighbors=3)\n",
    "knn.fit(XSVD,Ytreino)"
   ]
  },
  {
   "cell_type": "code",
   "execution_count": 28,
   "id": "6be0f1e5",
   "metadata": {},
   "outputs": [
    {
     "data": {
      "text/plain": [
       "array([1, 6, 3, 0, 5, 2, 0, 3, 1, 4, 9, 7, 2, 5, 2, 1, 0, 7, 3, 9, 5, 1,\n",
       "       5, 2, 0, 6, 6, 2, 3, 3, 3, 3, 6, 1, 3, 2, 7, 6, 7, 0, 3, 1, 1, 7,\n",
       "       3, 6, 1, 5, 2, 4, 0, 0, 0, 6, 9, 1, 8, 1, 4, 3, 6, 5, 2, 1, 3, 1,\n",
       "       0, 4, 0, 7, 0, 6, 2, 6, 1, 1, 5, 8, 6, 1, 4, 2, 5, 6, 3, 4, 7, 2,\n",
       "       5, 1, 2, 0, 4, 8, 7, 9, 9, 3, 8, 4, 6, 2, 8, 9, 4, 0, 6, 1, 4, 2,\n",
       "       6, 1, 0, 1, 1, 1, 6, 0, 0, 7, 7, 7, 3, 9, 9, 0, 3, 3, 1, 1, 1, 0,\n",
       "       8, 2, 1, 7, 9, 1, 3, 0, 3, 7, 1, 6, 0, 9, 9, 9, 7, 2, 0, 2, 0, 6,\n",
       "       2, 6, 7, 8, 9, 5, 4, 1, 5, 9, 9, 8, 2, 9, 2, 0, 0, 7, 5, 6, 6, 5,\n",
       "       3, 1, 1, 1, 3, 2, 1, 0, 9, 7, 3, 4, 8, 4, 1, 4, 0, 3, 4, 1, 3, 5,\n",
       "       4, 0, 5, 4, 0, 0, 5, 8, 5, 9, 6, 2, 7, 4, 8, 4, 3, 8, 9, 1, 7, 6,\n",
       "       1, 0, 1, 0, 1, 7, 7, 3, 5, 2, 2, 8, 4, 0, 5, 2, 1, 2, 9, 2, 2, 6,\n",
       "       5, 5, 6, 4, 2, 1, 1, 1, 0, 3, 1, 2, 3, 0, 1, 8, 4, 3, 5, 6, 3, 3,\n",
       "       2, 4, 4, 0, 2, 2, 3, 4, 6, 9, 6, 4, 6, 3, 5, 1, 7, 3, 1, 8, 1, 1,\n",
       "       7, 9, 2, 9, 2, 1, 1, 0, 6, 0, 3, 7, 0, 6, 2, 4, 7, 6, 2, 1, 0, 6,\n",
       "       6, 6, 0, 2, 9, 4, 4, 1, 1, 2, 3, 2, 2, 1, 5, 7, 9, 2, 7, 6, 2, 5,\n",
       "       0, 0, 2, 3, 7, 0, 3, 1, 7, 1, 3, 1, 1, 9, 2, 1, 4, 3, 7, 6, 6, 0,\n",
       "       1, 8, 4, 4, 1, 5, 0, 2, 5, 5, 2, 2, 8, 0, 8, 3, 1, 2, 5, 0, 5, 5,\n",
       "       4, 3, 1, 7, 2, 2, 1, 2, 3, 4, 0, 3, 7, 6, 0, 0, 3, 8, 6, 4, 5, 4,\n",
       "       8, 5, 6, 2, 4, 2, 3, 6, 4, 7, 4, 5, 3, 4, 9, 5, 3, 1, 2, 2, 1, 2,\n",
       "       7, 4, 9, 7, 2, 7, 0, 3, 8, 2, 9, 7, 3, 0, 3, 5, 2, 9, 1, 3, 4, 1,\n",
       "       8, 3, 5, 0, 3, 4, 4, 6, 2, 2, 0, 6, 4, 5, 0, 1, 4, 1, 6, 7, 5, 6,\n",
       "       1, 6, 4, 2, 6, 1, 7, 6, 1, 3, 5, 4, 3, 6, 7, 1, 1, 3, 2, 2, 3, 1,\n",
       "       1, 2, 5, 9, 1, 6, 0, 6, 6, 0, 7, 6, 0, 5, 6, 0, 1, 1, 8, 1, 1, 3,\n",
       "       8, 5, 4, 0, 7, 4, 6, 0, 4, 2, 1, 1, 8, 7, 1, 4, 3, 0, 0, 0, 1, 0,\n",
       "       2, 2, 8, 8, 1, 6, 1, 8, 1, 6, 8, 4])"
      ]
     },
     "execution_count": 28,
     "metadata": {},
     "output_type": "execute_result"
    }
   ],
   "source": [
    "Yprev=knn.predict(X_t_SVD)\n",
    "Yprev"
   ]
  },
  {
   "cell_type": "code",
   "execution_count": 29,
   "id": "5f973fd0",
   "metadata": {},
   "outputs": [
    {
     "name": "stdout",
     "output_type": "stream",
     "text": [
      "              precision    recall  f1-score   support\n",
      "\n",
      "           0       0.62      0.73      0.67        55\n",
      "           1       0.47      0.74      0.58        57\n",
      "           2       0.48      0.61      0.54        54\n",
      "           3       0.43      0.46      0.45        56\n",
      "           4       0.91      0.86      0.88        56\n",
      "           5       0.28      0.21      0.24        56\n",
      "           6       0.84      0.82      0.83        60\n",
      "           7       0.67      0.63      0.65        46\n",
      "           8       0.17      0.11      0.13        46\n",
      "           9       0.39      0.22      0.28        54\n",
      "\n",
      "    accuracy                           0.55       540\n",
      "   macro avg       0.53      0.54      0.52       540\n",
      "weighted avg       0.53      0.55      0.53       540\n",
      "\n"
     ]
    }
   ],
   "source": [
    "from sklearn import metrics\n",
    "print(metrics.classification_report(Yteste,Yprev))"
   ]
  },
  {
   "cell_type": "code",
   "execution_count": 30,
   "id": "adee2808",
   "metadata": {},
   "outputs": [
    {
     "name": "stdout",
     "output_type": "stream",
     "text": [
      "[[40  3  0  0  2  0  9  0  1  0]\n",
      " [ 2 42  1  0  0  3  0  2  6  1]\n",
      " [ 0  5 33 10  0  0  0  1  1  4]\n",
      " [ 1  1 18 26  0  2  0  3  2  3]\n",
      " [ 6  0  0  1 48  1  0  0  0  0]\n",
      " [ 2 10  6  8  1 12  0  5  7  5]\n",
      " [10  0  0  0  1  0 49  0  0  0]\n",
      " [ 0  5  0  4  1  5  0 29  1  1]\n",
      " [ 3 13  5  4  0 11  0  0  5  5]\n",
      " [ 1 10  6  7  0  9  0  3  6 12]]\n"
     ]
    }
   ],
   "source": [
    "from sklearn.metrics import  confusion_matrix\n",
    "matriz_conf=confusion_matrix(Yteste,Yprev)\n",
    "print(matriz_conf)"
   ]
  },
  {
   "cell_type": "markdown",
   "id": "38225a0c",
   "metadata": {},
   "source": [
    "Utilizando Validação Cruzada"
   ]
  },
  {
   "cell_type": "code",
   "execution_count": 32,
   "id": "4da11f62",
   "metadata": {},
   "outputs": [],
   "source": [
    "from sklearn.preprocessing import StandardScaler\n",
    "scaler=StandardScaler()\n",
    "scaler.fit(x)\n",
    "Xnorm=scaler.transform(x)\n"
   ]
  },
  {
   "cell_type": "code",
   "execution_count": 33,
   "id": "849a79b7",
   "metadata": {},
   "outputs": [
    {
     "data": {
      "text/plain": [
       "array([0.93888889, 0.91944444, 0.95543175, 0.97214485, 0.93871866])"
      ]
     },
     "execution_count": 33,
     "metadata": {},
     "output_type": "execute_result"
    }
   ],
   "source": [
    "from sklearn.model_selection import cross_val_score\n",
    "scores_norm=cross_val_score(knn,Xnorm,y,cv=5)\n",
    "scores_norm"
   ]
  },
  {
   "cell_type": "code",
   "execution_count": 31,
   "id": "dac5f646",
   "metadata": {},
   "outputs": [
    {
     "data": {
      "text/plain": [
       "array([0.95555556, 0.95833333, 0.96657382, 0.98607242, 0.96657382])"
      ]
     },
     "execution_count": 31,
     "metadata": {},
     "output_type": "execute_result"
    }
   ],
   "source": [
    "from sklearn.model_selection import cross_val_score\n",
    "scores=cross_val_score(knn,x,y,cv=5)\n",
    "scores"
   ]
  },
  {
   "cell_type": "markdown",
   "id": "c2a951ca",
   "metadata": {},
   "source": [
    "Procurando o melhor valor para K"
   ]
  },
  {
   "cell_type": "code",
   "execution_count": 35,
   "id": "14708a93",
   "metadata": {},
   "outputs": [],
   "source": [
    "from sklearn.model_selection import GridSearchCV"
   ]
  },
  {
   "cell_type": "code",
   "execution_count": 36,
   "id": "563e8d78",
   "metadata": {},
   "outputs": [],
   "source": [
    "k_lista=list(range(1,31))"
   ]
  },
  {
   "cell_type": "code",
   "execution_count": 38,
   "id": "a1a15010",
   "metadata": {},
   "outputs": [],
   "source": [
    "k_valores=dict(n_neighbors=k_lista)\n"
   ]
  },
  {
   "cell_type": "code",
   "execution_count": 39,
   "id": "7ebe4ac3",
   "metadata": {},
   "outputs": [],
   "source": [
    "grid=GridSearchCV(knn,k_valores,cv=5, scoring='accuracy')\n",
    "grid.fit(x,y)"
   ]
  },
  {
   "cell_type": "code",
   "execution_count": null,
   "id": "2cbb835c",
   "metadata": {},
   "outputs": [],
   "source": []
  },
  {
   "cell_type": "code",
   "execution_count": 40,
   "id": "17e1e470",
   "metadata": {},
   "outputs": [
    {
     "data": {
      "text/plain": [
       "GridSearchCV(cv=5, estimator=KNeighborsClassifier(n_neighbors=3),\n",
       "             param_grid={'n_neighbors': [1, 2, 3, 4, 5, 6, 7, 8, 9, 10, 11, 12,\n",
       "                                         13, 14, 15, 16, 17, 18, 19, 20, 21, 22,\n",
       "                                         23, 24, 25, 26, 27, 28, 29, 30]},\n",
       "             scoring='accuracy')"
      ]
     },
     "execution_count": 40,
     "metadata": {},
     "output_type": "execute_result"
    }
   ],
   "source": [
    "grid.fit(Xnorm,y)"
   ]
  },
  {
   "cell_type": "code",
   "execution_count": 90,
   "id": "725cd0ee",
   "metadata": {},
   "outputs": [
    {
     "data": {
      "text/plain": [
       "{'mean_fit_time': array([0.00412083, 0.        , 0.0031239 , 0.00312371, 0.        ,\n",
       "        0.00347533, 0.00025897, 0.        , 0.        , 0.        ,\n",
       "        0.        , 0.00312376, 0.00312371, 0.00312467, 0.0031239 ,\n",
       "        0.00312443, 0.00624814, 0.00312405, 0.0031239 , 0.00312343,\n",
       "        0.        , 0.        , 0.00312424, 0.00312419, 0.        ,\n",
       "        0.        , 0.00312428, 0.        , 0.        , 0.00312443]),\n",
       " 'std_fit_time': array([0.00586477, 0.        , 0.00624781, 0.00624743, 0.        ,\n",
       "        0.00695066, 0.00051794, 0.        , 0.        , 0.        ,\n",
       "        0.        , 0.00624752, 0.00624743, 0.00624933, 0.00624781,\n",
       "        0.00624886, 0.00765238, 0.00624809, 0.00624781, 0.00624685,\n",
       "        0.        , 0.        , 0.00624847, 0.00624838, 0.        ,\n",
       "        0.        , 0.00624857, 0.        , 0.        , 0.00624886]),\n",
       " 'mean_score_time': array([0.02931781, 0.03124323, 0.03124256, 0.03436809, 0.03749042,\n",
       "        0.03070102, 0.0524302 , 0.03749142, 0.03749151, 0.03749075,\n",
       "        0.04686489, 0.03436794, 0.03436732, 0.03749056, 0.03436694,\n",
       "        0.03749108, 0.03124361, 0.03124299, 0.03436794, 0.03436794,\n",
       "        0.03749146, 0.04061446, 0.03436799, 0.03749065, 0.04061575,\n",
       "        0.03749075, 0.03436737, 0.04061475, 0.03749146, 0.0312427 ]),\n",
       " 'std_score_time': array([1.18806880e-02, 1.02934995e-06, 1.87973054e-06, 6.24737764e-03,\n",
       "        7.65420792e-03, 1.08544940e-03, 2.14329675e-02, 7.65270878e-03,\n",
       "        7.65272835e-03, 7.65111261e-03, 1.97592972e-02, 6.24768749e-03,\n",
       "        6.24775890e-03, 7.65233890e-03, 6.24663845e-03, 7.65268943e-03,\n",
       "        1.72849359e-06, 1.11420836e-06, 6.26474649e-03, 6.24649535e-03,\n",
       "        7.65218326e-03, 7.65208624e-03, 6.24837879e-03, 7.65099582e-03,\n",
       "        7.65294248e-03, 7.65130724e-03, 6.24809311e-03, 7.65222237e-03,\n",
       "        7.65237789e-03, 9.24621555e-07]),\n",
       " 'param_n_neighbors': masked_array(data=[1, 2, 3, 4, 5, 6, 7, 8, 9, 10, 11, 12, 13, 14, 15, 16,\n",
       "                    17, 18, 19, 20, 21, 22, 23, 24, 25, 26, 27, 28, 29, 30],\n",
       "              mask=[False, False, False, False, False, False, False, False,\n",
       "                    False, False, False, False, False, False, False, False,\n",
       "                    False, False, False, False, False, False, False, False,\n",
       "                    False, False, False, False, False, False],\n",
       "        fill_value='?',\n",
       "             dtype=object),\n",
       " 'params': [{'n_neighbors': 1},\n",
       "  {'n_neighbors': 2},\n",
       "  {'n_neighbors': 3},\n",
       "  {'n_neighbors': 4},\n",
       "  {'n_neighbors': 5},\n",
       "  {'n_neighbors': 6},\n",
       "  {'n_neighbors': 7},\n",
       "  {'n_neighbors': 8},\n",
       "  {'n_neighbors': 9},\n",
       "  {'n_neighbors': 10},\n",
       "  {'n_neighbors': 11},\n",
       "  {'n_neighbors': 12},\n",
       "  {'n_neighbors': 13},\n",
       "  {'n_neighbors': 14},\n",
       "  {'n_neighbors': 15},\n",
       "  {'n_neighbors': 16},\n",
       "  {'n_neighbors': 17},\n",
       "  {'n_neighbors': 18},\n",
       "  {'n_neighbors': 19},\n",
       "  {'n_neighbors': 20},\n",
       "  {'n_neighbors': 21},\n",
       "  {'n_neighbors': 22},\n",
       "  {'n_neighbors': 23},\n",
       "  {'n_neighbors': 24},\n",
       "  {'n_neighbors': 25},\n",
       "  {'n_neighbors': 26},\n",
       "  {'n_neighbors': 27},\n",
       "  {'n_neighbors': 28},\n",
       "  {'n_neighbors': 29},\n",
       "  {'n_neighbors': 30}],\n",
       " 'split0_test_score': array([0.96111111, 0.96111111, 0.95555556, 0.94722222, 0.94722222,\n",
       "        0.94444444, 0.93611111, 0.93611111, 0.93055556, 0.93055556,\n",
       "        0.93611111, 0.93611111, 0.93333333, 0.93611111, 0.93611111,\n",
       "        0.93055556, 0.93611111, 0.92777778, 0.93055556, 0.925     ,\n",
       "        0.925     , 0.91944444, 0.92222222, 0.91944444, 0.92222222,\n",
       "        0.92222222, 0.92777778, 0.93055556, 0.92777778, 0.925     ]),\n",
       " 'split1_test_score': array([0.95277778, 0.96666667, 0.95833333, 0.95833333, 0.95555556,\n",
       "        0.95833333, 0.96111111, 0.95833333, 0.95277778, 0.94722222,\n",
       "        0.94444444, 0.95277778, 0.95      , 0.95277778, 0.95      ,\n",
       "        0.95      , 0.95      , 0.94444444, 0.95      , 0.95277778,\n",
       "        0.94444444, 0.95      , 0.94166667, 0.94166667, 0.93888889,\n",
       "        0.93611111, 0.93333333, 0.93611111, 0.92777778, 0.93611111]),\n",
       " 'split2_test_score': array([0.96657382, 0.96935933, 0.96657382, 0.96657382, 0.96657382,\n",
       "        0.96657382, 0.96935933, 0.96935933, 0.97214485, 0.96935933,\n",
       "        0.96935933, 0.96935933, 0.97214485, 0.96935933, 0.96935933,\n",
       "        0.96935933, 0.9637883 , 0.9637883 , 0.9637883 , 0.96657382,\n",
       "        0.9637883 , 0.96657382, 0.9637883 , 0.96657382, 0.95821727,\n",
       "        0.95821727, 0.94986072, 0.94428969, 0.94150418, 0.93871866]),\n",
       " 'split3_test_score': array([0.98607242, 0.97771588, 0.98607242, 0.98050139, 0.98050139,\n",
       "        0.97493036, 0.98050139, 0.97771588, 0.97771588, 0.97771588,\n",
       "        0.97771588, 0.97493036, 0.97493036, 0.97214485, 0.97214485,\n",
       "        0.96935933, 0.96657382, 0.9637883 , 0.9637883 , 0.96100279,\n",
       "        0.96657382, 0.9637883 , 0.96657382, 0.96935933, 0.9637883 ,\n",
       "        0.9637883 , 0.9637883 , 0.96100279, 0.96100279, 0.96100279]),\n",
       " 'split4_test_score': array([0.95543175, 0.96100279, 0.96657382, 0.96657382, 0.9637883 ,\n",
       "        0.95264624, 0.95264624, 0.94986072, 0.94986072, 0.94986072,\n",
       "        0.94986072, 0.94986072, 0.94707521, 0.94986072, 0.94707521,\n",
       "        0.95264624, 0.94986072, 0.94707521, 0.94428969, 0.94428969,\n",
       "        0.94428969, 0.94707521, 0.94428969, 0.94707521, 0.94428969,\n",
       "        0.94707521, 0.94428969, 0.94428969, 0.94707521, 0.94428969]),\n",
       " 'mean_test_score': array([0.96439338, 0.96717115, 0.96662179, 0.96384092, 0.96272826,\n",
       "        0.95938564, 0.95994584, 0.95827608, 0.95661096, 0.95494274,\n",
       "        0.9554983 , 0.95660786, 0.95549675, 0.95605076, 0.9549381 ,\n",
       "        0.95438409, 0.95326679, 0.94937481, 0.95048437, 0.94992881,\n",
       "        0.94881925, 0.94937635, 0.94770814, 0.94882389, 0.94548128,\n",
       "        0.94548282, 0.94380997, 0.94324977, 0.94102755, 0.94102445]),\n",
       " 'std_test_score': array([0.01183842, 0.00618072, 0.01067232, 0.01094553, 0.01116854,\n",
       "        0.01061202, 0.01505909, 0.01457979, 0.01688705, 0.01677273,\n",
       "        0.01559219, 0.01399017, 0.01579353, 0.01328726, 0.01374561,\n",
       "        0.01441218, 0.01099427, 0.01350204, 0.01256786, 0.01456744,\n",
       "        0.0151414 , 0.01676341, 0.01620002, 0.01818901, 0.0147188 ,\n",
       "        0.01502449, 0.01267096, 0.01029015, 0.01254531, 0.01179861]),\n",
       " 'rank_test_score': array([ 3,  1,  2,  4,  5,  7,  6,  8,  9, 14, 12, 10, 13, 11, 15, 16, 17,\n",
       "        21, 18, 19, 23, 20, 24, 22, 26, 25, 27, 28, 29, 30])}"
      ]
     },
     "execution_count": 90,
     "metadata": {},
     "output_type": "execute_result"
    }
   ],
   "source": [
    "grid.cv_results_"
   ]
  },
  {
   "cell_type": "code",
   "execution_count": null,
   "id": "83132ad6",
   "metadata": {},
   "outputs": [],
   "source": []
  },
  {
   "cell_type": "code",
   "execution_count": 93,
   "id": "5edaa3b6",
   "metadata": {},
   "outputs": [
    {
     "data": {
      "image/png": "[encoded data removed]",
      "text/plain": [
       "<Figure size 720x432 with 1 Axes>"
      ]
     },
     "metadata": {
      "needs_background": "light"
     },
     "output_type": "display_data"
    }
   ],
   "source": [
    "scores=[]\n",
    "results = grid.cv_results_\n",
    "for mean in results['mean_test_score']:\n",
    "    scores.append(mean)\n",
    "\n",
    "\n",
    "plt.figure(figsize=(10,6))\n",
    "plt.plot(k_lista,scores,color='red',linestyle='dashed',marker='o')\n",
    "plt.xlabel('k')\n",
    "plt.ylabel('accuracy')\n",
    "plt.show()"
   ]
  },
  {
   "cell_type": "code",
   "execution_count": 94,
   "id": "d005355c",
   "metadata": {},
   "outputs": [
    {
     "name": "stdout",
     "output_type": "stream",
     "text": [
      "Melhor valor de k = {'n_neighbors': 2} com o valor 0.9671711544413494 de acurácia\n"
     ]
    }
   ],
   "source": [
    "print(\"Melhor valor de k = {} com o valor {} de acurácia\".format(grid.best_params_,grid.best_score_))"
   ]
  },
  {
   "cell_type": "code",
   "execution_count": null,
   "id": "97804d1b",
   "metadata": {},
   "outputs": [],
   "source": []
  }
 ],
 "metadata": {
  "kernelspec": {
   "display_name": "Python 3",
   "language": "python",
   "name": "python3"
  },
  "language_info": {
   "codemirror_mode": {
    "name": "ipython",
    "version": 3
   },
   "file_extension": ".py",
   "mimetype": "text/x-python",
   "name": "python",
   "nbconvert_exporter": "python",
   "pygments_lexer": "ipython3",
   "version": "3.8.8"
  }
 },
 "nbformat": 4,
 "nbformat_minor": 5
}
